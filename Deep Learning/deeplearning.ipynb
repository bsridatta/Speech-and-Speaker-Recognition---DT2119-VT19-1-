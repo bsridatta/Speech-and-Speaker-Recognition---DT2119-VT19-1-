{
 "cells": [
  {
   "cell_type": "markdown",
   "metadata": {},
   "source": [
    "## Speech and Speaker Recognition - DT2119 VT19-1 \n",
    "\n",
    "### Phoneme Recognition with Deep Neural Networks - Lab 3"
   ]
  },
  {
   "cell_type": "code",
   "execution_count": 61,
   "metadata": {},
   "outputs": [],
   "source": [
    "                                                                                                                                                                                                                                                                                                                                                                                                                                                                                                                                                                                                                                                                                                                                                                                                                                                                                                                                                                                                                                                                                                                                                                                                                                                                                                                                                                                                                                                                                                                                                                                                                                                                                                                                                                                                                                                                                                                                                                                                                                                                                                                                                                                                                                                                                                                                                                                                                                                                                                                                                                                                                                                                                                                                                                                                                                                                                                                                                                                                                                                                                                                                                                                                                                                                                                                                                                                                                                                                                                                                                                                                                                                                                                                                                                                                                                                                                                                                                                                                                                                                                                                                                                                                                                                                                                                                                                                                                                                                                                                                                                                                                                                                                                                                                                                                                                                                                                                                                                                                                                                                                                                                                                                                                                                                                                                                                                                                                                                                                                                                                                                                                                                                                                                                                                                                                                                                                                                                                                                                                                                                                                                                                                                                                                                                                                                                                                                                                                                                                                                                                                                                                                                                                                                                                                                                                                                                                                                                                                                                                                                                                                                                                                                                                                                                                                                                                                                                                                                                                                                                                                                                                                                                                                                                                                                                                                                                                                                                                                                                                                                                                                                                                                                                                                                                                                                                                                                                                                                                                                                                                                                                                                                                                                                                                                                                                                                                                                                                                                                                                                                                                                                                                                                                                                                                                                                                                                                                                                                                                                                                                                                                                                                                                                                                                                                                                                                                                                                                                                                                                                                                                                                                                                                                                                                                                                                                                                                                                                                                                                                                                                                                                                                                                                                                                                                                                                                                                                                                                                                                                                                                                                                                                                                                                                                                                                                                                                                                                                                                                                                                                                                                                                                                                                                                                                                                                                                                        from __future__ import print_function\n",
    "import soundfile as sf                                                                                                                                                                                                                                                                                                                                                                                                                                                                                                                                                                                                \n",
    "import numpy as np\n",
    "import math\n",
    "from sklearn.preprocessing import StandardScaler\n",
    "\n",
    "\n",
    "from lab3_tools import *\n",
    "from lab3_proto import *\n",
    "from prondict import prondict\n",
    "\n",
    "from matplotlib import pyplot as plt\n",
    "import seaborn as sns\n",
    "%matplotlib inline\n",
    "\n",
    "import pprint\n",
    "import os\n",
    "import pickle\n",
    "import warnings\n",
    "from IPython.display import Image\n",
    "from tqdm import tqdm_notebook as tqdm\n",
    "\n",
    "from keras.utils import np_utils"
   ]
  },
  {
   "cell_type": "code",
   "execution_count": 2,
   "metadata": {},
   "outputs": [],
   "source": [
    "%%capture\n",
    "import Feature_Extraction as FE\n",
    "import hmm as hmm"
   ]
  },
  {
   "cell_type": "markdown",
   "metadata": {},
   "source": [
    "### 3 Data "
   ]
  },
  {
   "cell_type": "code",
   "execution_count": 3,
   "metadata": {
    "scrolled": true
   },
   "outputs": [
    {
     "data": {
      "text/plain": [
       "('man', 'ae', 'z9z6531', 'a')"
      ]
     },
     "execution_count": 3,
     "metadata": {},
     "output_type": "execute_result"
    }
   ],
   "source": [
    "path2info('tidigits/disc_4.1.1/tidigits/train/man/ae/z9z6531a.wav')"
   ]
  },
  {
   "cell_type": "code",
   "execution_count": 4,
   "metadata": {},
   "outputs": [
    {
     "data": {
      "text/plain": [
       "(array([11, 13, 11, ...,  9,  9,  9], dtype=int16), 20000)"
      ]
     },
     "execution_count": 4,
     "metadata": {},
     "output_type": "execute_result"
    }
   ],
   "source": [
    "loadAudio('../tidigits/disc_4.1.1/tidigits/train/man/ae/z9z6531a.wav')"
   ]
  },
  {
   "cell_type": "markdown",
   "metadata": {},
   "source": [
    "### 4.1 Target Class Defination"
   ]
  },
  {
   "cell_type": "code",
   "execution_count": 5,
   "metadata": {},
   "outputs": [
    {
     "name": "stdout",
     "output_type": "stream",
     "text": [
      "['ah_0', 'ah_1', 'ah_2', 'ao_0', 'ao_1', 'ao_2', 'ay_0', 'ay_1', 'ay_2', 'eh_0',\n",
      " 'eh_1', 'eh_2', 'ey_0', 'ey_1', 'ey_2', 'f_0', 'f_1', 'f_2', 'ih_0', 'ih_1',\n",
      " 'ih_2', 'iy_0', 'iy_1', 'iy_2', 'k_0', 'k_1', 'k_2', 'n_0', 'n_1', 'n_2',\n",
      " 'ow_0', 'ow_1', 'ow_2', 'r_0', 'r_1', 'r_2', 's_0', 's_1', 's_2', 'sil_0',\n",
      " 'sil_1', 'sil_2', 'sp_0', 't_0', 't_1', 't_2', 'th_0', 'th_1', 'th_2', 'uw_0',\n",
      " 'uw_1', 'uw_2', 'v_0', 'v_1', 'v_2', 'w_0', 'w_1', 'w_2', 'z_0', 'z_1', 'z_2']\n"
     ]
    }
   ],
   "source": [
    "phoneHMMs = np.load('../HMM/lab2_models_all.npz')['phoneHMMs'].item()\n",
    "phones = sorted(phoneHMMs.keys())\n",
    "nstates = {phone:  phoneHMMs[phone]['means'].shape[0] for phone in phones}\n",
    "stateList = [ph + '_' + str(id) for ph in phones for id in range(nstates[ph])]\n",
    "pprint.pprint(stateList, compact=True)\n",
    "\n",
    "# with open('stateList', 'wb') as fp:\n",
    "#     pickle.dump(stateList, fp)\n",
    "\n",
    "with open('stateList.txt', 'w') as f:\n",
    "    for state in stateList:\n",
    "        _ = f.write(\"%s\\n\" % state)"
   ]
  },
  {
   "cell_type": "code",
   "execution_count": 6,
   "metadata": {},
   "outputs": [
    {
     "name": "stdout",
     "output_type": "stream",
     "text": [
      "['ah_0', 'ah_1', 'ah_2', 'ao_0', 'ao_1', 'ao_2', 'ay_0', 'ay_1', 'ay_2', 'eh_0', 'eh_1', 'eh_2', 'ey_0', 'ey_1', 'ey_2', 'f_0', 'f_1', 'f_2', 'ih_0', 'ih_1', 'ih_2', 'iy_0', 'iy_1', 'iy_2', 'k_0', 'k_1', 'k_2', 'n_0', 'n_1', 'n_2', 'ow_0', 'ow_1', 'ow_2', 'r_0', 'r_1', 'r_2', 's_0', 's_1', 's_2', 'sil_0', 'sil_1', 'sil_2', 'sp_0', 't_0', 't_1', 't_2', 'th_0', 'th_1', 'th_2', 'uw_0', 'uw_1', 'uw_2', 'v_0', 'v_1', 'v_2', 'w_0', 'w_1', 'w_2', 'z_0', 'z_1', 'z_2']\n"
     ]
    }
   ],
   "source": [
    "lineList = list()\n",
    "with open('stateList.txt') as f:\n",
    "    for line in f:\n",
    "        lineList.append(line.strip('\\n'))\n",
    "print(lineList)"
   ]
  },
  {
   "cell_type": "code",
   "execution_count": 7,
   "metadata": {},
   "outputs": [
    {
     "data": {
      "text/plain": [
       "8"
      ]
     },
     "execution_count": 7,
     "metadata": {},
     "output_type": "execute_result"
    }
   ],
   "source": [
    "stateList.index('ay_2')"
   ]
  },
  {
   "cell_type": "markdown",
   "metadata": {},
   "source": [
    "### 4.2 Forced Alignment"
   ]
  },
  {
   "cell_type": "code",
   "execution_count": 8,
   "metadata": {},
   "outputs": [
    {
     "name": "stdout",
     "output_type": "stream",
     "text": [
      "(178, 13)\n"
     ]
    },
    {
     "name": "stderr",
     "output_type": "stream",
     "text": [
      "/usr/local/lib/python3.5/dist-packages/scipy/signal/signaltools.py:1344: FutureWarning: Using a non-tuple sequence for multidimensional indexing is deprecated; use `arr[tuple(seq)]` instead of `arr[seq]`. In the future this will be interpreted as an array index, `arr[np.array(seq)]`, which will result either in an error or a different result.\n",
      "  out = out_full[ind]\n",
      "/usr/local/lib/python3.5/dist-packages/scipy/fftpack/basic.py:160: FutureWarning: Using a non-tuple sequence for multidimensional indexing is deprecated; use `arr[tuple(seq)]` instead of `arr[seq]`. In the future this will be interpreted as an array index, `arr[np.array(seq)]`, which will result either in an error or a different result.\n",
      "  z[index] = x\n"
     ]
    }
   ],
   "source": [
    "#file path actually\n",
    "filename = '../tidigits/disc_4.1.1/tidigits/train/man/nw/z43a.wav'\n",
    "samples, samplingrate = loadAudio(filename)\n",
    "lmfcc = FE.mfccFn(samples)\n",
    "print(lmfcc.shape)"
   ]
  },
  {
   "cell_type": "code",
   "execution_count": 9,
   "metadata": {},
   "outputs": [
    {
     "name": "stdout",
     "output_type": "stream",
     "text": [
      "['z', '4', '3']\n"
     ]
    }
   ],
   "source": [
    "wordTrans = list(path2info(filename)[2])\n",
    "print(wordTrans)"
   ]
  },
  {
   "cell_type": "code",
   "execution_count": 10,
   "metadata": {},
   "outputs": [],
   "source": [
    "def words2phones(wordList, pronDict, addSilence=True, addShortPause=True):\n",
    "    \"\"\" word2phones: converts word level to phone level transcription adding silence\n",
    "\n",
    "    Args:\n",
    "       wordList: list of word symbols\n",
    "       pronDict: pronunciation dictionary. The keys correspond to words in wordList\n",
    "       addSilence: if True, add initial and final silence\n",
    "       addShortPause: if True, add short pause model \"sp\" at end of each word\n",
    "    Output:\n",
    "       list of phone symbols\n",
    "    \"\"\"\n",
    "    phoneTrans = []\n",
    "    \n",
    "    if(addSilence):\n",
    "        phoneTrans.append('sil')\n",
    "    \n",
    "    for word in wordList:\n",
    "        phones = pronDict[word]\n",
    "        for phone in phones:\n",
    "            phoneTrans.append(phone)\n",
    "        if(addSilence):\n",
    "            phoneTrans.append('sp')\n",
    "      \n",
    "    if(addSilence):\n",
    "        phoneTrans.append('sil')\n",
    "    \n",
    "    return phoneTrans"
   ]
  },
  {
   "cell_type": "code",
   "execution_count": 11,
   "metadata": {},
   "outputs": [
    {
     "name": "stdout",
     "output_type": "stream",
     "text": [
      "['sil', 'z', 'iy', 'r', 'ow', 'sp', 'f', 'ao', 'r', 'sp', 'th', 'r', 'iy', 'sp', 'sil']\n"
     ]
    }
   ],
   "source": [
    "phoneTrans = words2phones(wordTrans, prondict)\n",
    "print(phoneTrans)"
   ]
  },
  {
   "cell_type": "code",
   "execution_count": 12,
   "metadata": {},
   "outputs": [],
   "source": [
    "utteranceHMM = hmm.concatHMMs(phoneHMMs, phoneTrans)"
   ]
  },
  {
   "cell_type": "code",
   "execution_count": 13,
   "metadata": {},
   "outputs": [
    {
     "name": "stdout",
     "output_type": "stream",
     "text": [
      "['sil_0', 'sil_1', 'sil_2', 'z_0', 'z_1', 'z_2', 'iy_0', 'iy_1', 'iy_2', 'r_0',\n",
      " 'r_1', 'r_2', 'ow_0', 'ow_1', 'ow_2', 'sp_0', 'f_0', 'f_1', 'f_2', 'ao_0',\n",
      " 'ao_1', 'ao_2', 'r_0', 'r_1', 'r_2', 'sp_0', 'th_0', 'th_1', 'th_2', 'r_0',\n",
      " 'r_1', 'r_2', 'iy_0', 'iy_1', 'iy_2', 'sp_0', 'sil_0', 'sil_1', 'sil_2']\n",
      "\n",
      " r_1\n"
     ]
    }
   ],
   "source": [
    "stateTrans = [phone + \"_\" + str(stateid) for phone in phoneTrans\n",
    "             for stateid in range(nstates[phone])]\n",
    "pprint.pprint(stateTrans, compact=True)\n",
    "print(\"\\n\", stateTrans[10])"
   ]
  },
  {
   "cell_type": "code",
   "execution_count": 14,
   "metadata": {},
   "outputs": [],
   "source": [
    "def forcedAlignment(lmfcc, phoneHMMs, phoneTrans):\n",
    "    \"\"\" forcedAlignmen: aligns a phonetic transcription at the state level\n",
    "\n",
    "    Args:\n",
    "       lmfcc: NxD array of MFCC feature vectors (N vectors of dimension D)\n",
    "              computed the same way as for the training of phoneHMMs\n",
    "       phoneHMMs: set of phonetic Gaussian HMM models\n",
    "       phoneTrans: list of phonetic symbols to be aligned including initial and\n",
    "                   final silence\n",
    "\n",
    "    Returns:\n",
    "       list of strings in the form phoneme_index specifying, for each time step\n",
    "       the state from phoneHMMs corresponding to the viterbi path.\n",
    "    \"\"\"\n",
    "    utteranceHMM = hmm.concatHMMs(phoneHMMs, phoneTrans)\n",
    "    obsloglik = hmm.log_multivariate_normal_density_diag(lmfcc, utteranceHMM['means'], utteranceHMM['covars'])  \n",
    "    log_startprob = np.log(utteranceHMM['startprob'][:-1])\n",
    "    log_transmat = np.log(utteranceHMM['transmat'][:-1,:-1])\n",
    "    alpha = hmm.forward(obsloglik, log_startprob, log_transmat) \n",
    "    vloglik, vpath = hmm.viterbi(obsloglik, log_startprob, log_transmat)\n",
    "    \n",
    "    phones = sorted(phoneHMMs.keys())\n",
    "    nstates = {phone:  phoneHMMs[phone]['means'].shape[0] for phone in phones}\n",
    "    stateTrans = [ph + '_' + str(id) for ph in phoneTrans for id in range(nstates[ph])]\n",
    "    \n",
    "#     stateList = list()\n",
    "#     with open('stateList.txt') as f:\n",
    "#         for line in f:\n",
    "#             stateList.append(line.strip('\\n'))\n",
    "    \n",
    "    stateTransIdx = [stateList.index(state) for state in stateTrans]\n",
    "    viterbiStateTrans = [stateTrans[i] for i in vpath]\n",
    "    transcription = frames2trans(viterbiStateTrans, outfilename = \"z43a.lab\")\n",
    "\n",
    "    return viterbiStateTrans"
   ]
  },
  {
   "cell_type": "code",
   "execution_count": 15,
   "metadata": {},
   "outputs": [
    {
     "name": "stderr",
     "output_type": "stream",
     "text": [
      "/usr/local/lib/python3.5/dist-packages/ipykernel_launcher.py:17: RuntimeWarning: divide by zero encountered in log\n",
      "/usr/local/lib/python3.5/dist-packages/ipykernel_launcher.py:18: RuntimeWarning: divide by zero encountered in log\n"
     ]
    },
    {
     "name": "stdout",
     "output_type": "stream",
     "text": [
      "['sil_0', 'sil_1', 'sil_1', 'sil_1', 'sil_1', 'sil_1', 'sil_1', 'sil_1',\n",
      " 'sil_1', 'sil_1', 'sil_1', 'sil_1', 'sil_1', 'sil_1', 'sil_1', 'sil_1',\n",
      " 'sil_1', 'sil_1', 'sil_1', 'sil_2', 'z_0', 'z_0', 'z_0', 'z_0', 'z_1', 'z_2',\n",
      " 'z_2', 'z_2', 'z_2', 'z_2', 'z_2', 'z_2', 'z_2', 'z_2', 'z_2', 'z_2', 'iy_0',\n",
      " 'iy_0', 'iy_0', 'iy_0', 'iy_0', 'iy_0', 'iy_0', 'iy_0', 'iy_1', 'iy_2', 'r_0',\n",
      " 'r_0', 'r_0', 'r_0', 'r_0', 'r_0', 'r_0', 'r_0', 'r_0', 'r_0', 'r_1', 'r_2',\n",
      " 'ow_0', 'ow_1', 'ow_2', 'ow_2', 'ow_2', 'ow_2', 'ow_2', 'ow_2', 'ow_2', 'ow_2',\n",
      " 'ow_2', 'f_0', 'f_1', 'f_1', 'f_1', 'f_1', 'f_1', 'f_1', 'f_1', 'f_1', 'f_1',\n",
      " 'f_1', 'f_1', 'f_2', 'ao_0', 'ao_1', 'ao_1', 'ao_1', 'ao_1', 'ao_1', 'ao_1',\n",
      " 'ao_1', 'ao_1', 'ao_1', 'ao_1', 'ao_1', 'ao_1', 'ao_1', 'ao_1', 'ao_2', 'ao_2',\n",
      " 'ao_2', 'ao_2', 'ao_2', 'ao_2', 'ao_2', 'ao_2', 'ao_2', 'ao_2', 'ao_2', 'r_0',\n",
      " 'r_0', 'r_0', 'r_1', 'r_2', 'th_0', 'th_0', 'th_0', 'th_0', 'th_0', 'th_0',\n",
      " 'th_0', 'th_0', 'th_0', 'th_0', 'th_1', 'th_1', 'th_1', 'th_2', 'r_0', 'r_0',\n",
      " 'r_0', 'r_0', 'r_0', 'r_0', 'r_0', 'r_0', 'r_0', 'r_1', 'r_2', 'iy_0', 'iy_0',\n",
      " 'iy_0', 'iy_0', 'iy_0', 'iy_0', 'iy_0', 'iy_0', 'iy_0', 'iy_0', 'iy_1', 'iy_1',\n",
      " 'iy_2', 'iy_2', 'iy_2', 'iy_2', 'iy_2', 'iy_2', 'iy_2', 'iy_2', 'sil_0',\n",
      " 'sil_0', 'sil_0', 'sil_0', 'sil_0', 'sil_0', 'sil_0', 'sil_0', 'sil_0',\n",
      " 'sil_0', 'sil_0', 'sil_0', 'sil_0', 'sil_0', 'sil_0', 'sil_0', 'sil_0',\n",
      " 'sil_0', 'sil_0', 'sil_0']\n"
     ]
    }
   ],
   "source": [
    "alignedPhonemes = forcedAlignment(lmfcc, phoneHMMs, phoneTrans)\n",
    "pprint.pprint(alignedPhonemes, compact=True)"
   ]
  },
  {
   "cell_type": "code",
   "execution_count": 16,
   "metadata": {},
   "outputs": [
    {
     "data": {
      "image/png": "[encoded data removed]",
      "text/plain": [
       "<IPython.core.display.Image object>"
      ]
     },
     "execution_count": 16,
     "metadata": {},
     "output_type": "execute_result"
    }
   ],
   "source": [
    "Image('wavesurfer.png')"
   ]
  },
  {
   "cell_type": "markdown",
   "metadata": {},
   "source": [
    "### 4.3 Feature Extraction"
   ]
  },
  {
   "cell_type": "code",
   "execution_count": 17,
   "metadata": {},
   "outputs": [],
   "source": [
    "def prepare_features(datapath, stateListPath, saveName):\n",
    "    traindata = []\n",
    "    stateList = list()\n",
    "    with open(stateListPath) as f:\n",
    "        for line in f:\n",
    "            stateList.append(line.strip('\\n'))\n",
    "\n",
    "    totalfiles = 0\n",
    "    for root, dirs, files in os.walk(datapath):\n",
    "        for file in files:\n",
    "            if file.endswith('.wav'):\n",
    "                totalfiles += 1\n",
    "\n",
    "    pbar = tqdm(total=totalfiles)\n",
    "    for root, dirs, files in os.walk(datapath):\n",
    "        for file in files:\n",
    "            if file.endswith('.wav'):\n",
    "                filename = os.path.join(root, file)\n",
    "                samples, samplingrate = loadAudio(filename)\n",
    "                lmfcc = FE.mfccFn(samples)\n",
    "                mspec = FE.mspecFn(samples)            \n",
    "                wordTrans = list(path2info(filename)[2])\n",
    "                phoneTrans = words2phones(wordTrans, prondict, addShortPause=False)\n",
    "                targets = forcedAlignment(lmfcc, phoneHMMs, phoneTrans)\n",
    "                targetsIdx =  np.array([stateList.index(target) for target in targets])\n",
    "\n",
    "                traindata.append({'filename': filename,\n",
    "                                 'lmfcc': lmfcc,\n",
    "                                 'mspec': mspec,\n",
    "                                 'targets':targetsIdx})\n",
    "                pbar.update(1)\n",
    "                pbar.refresh()\n",
    "    pbar.close()\n",
    "    #Never terminates for some reason and gets struck when there is a file of same name\n",
    "    print(\"saving npz...please wait!\")\n",
    "    np.savez(saveName, traindata=traindata)\n",
    "    return traindata"
   ]
  },
  {
   "cell_type": "code",
   "execution_count": 18,
   "metadata": {},
   "outputs": [
    {
     "name": "stdout",
     "output_type": "stream",
     "text": [
      "Do you really want to do this?\n",
      "no\n"
     ]
    }
   ],
   "source": [
    "print(\"Do you really want to do this?\")\n",
    "a = input()\n",
    "if(a == 'yes'):\n",
    "    traindata = prepare_features('../tidigits/disc_4.1.1/tidigits/train', 'stateList.txt', 'traindata.npz')"
   ]
  },
  {
   "cell_type": "markdown",
   "metadata": {},
   "source": [
    "### 4.4 Training and Validation Sets"
   ]
  },
  {
   "cell_type": "code",
   "execution_count": 19,
   "metadata": {},
   "outputs": [
    {
     "name": "stdout",
     "output_type": "stream",
     "text": [
      "Training Data :  89.2844717615679\n",
      "Validation Data : 10.7155282384321\n"
     ]
    }
   ],
   "source": [
    "traindata = np.load('traindata.npz')\n",
    "traindata = dict(zip((\"{}\".format(k) for k in traindata), (traindata[k] for k in traindata)))\n",
    "\n",
    "male_speakers = np.unique([traindata['traindata'][i][\"filename\"].split('/')[6] \n",
    "                      for i in range(len(traindata['traindata'])) \n",
    "                      if traindata['traindata'][i][\"filename\"].split('/')[5] == 'man'])\n",
    "female_speakers = np.unique([traindata['traindata'][i][\"filename\"].split('/')[6] \n",
    "                      for i in range(len(traindata['traindata'])) \n",
    "                      if traindata['traindata'][i][\"filename\"].split('/')[5] == 'woman'])\n",
    "\n",
    "\n",
    "m_train_speakers = male_speakers[0:math.floor(len(male_speakers)*0.9)]\n",
    "m_valid_speakers = male_speakers[math.floor(len(male_speakers)*0.9):]\n",
    "\n",
    "m_train_data =  [traindata['traindata'][i] for i in range(len(traindata['traindata'])) \n",
    "                  if traindata['traindata'][i][\"filename\"].split('/')[6] in m_train_speakers]\n",
    "\n",
    "m_valid_data =  [traindata['traindata'][i] for i in range(len(traindata['traindata'])) \n",
    "                  if traindata['traindata'][i][\"filename\"].split('/')[6] in m_valid_speakers]\n",
    "\n",
    "w_train_speakers = female_speakers[0:math.floor(len(female_speakers)*0.9)]\n",
    "w_valid_speakers = female_speakers[math.floor(len(female_speakers)*0.9):]\n",
    "\n",
    "w_train_data =  [traindata['traindata'][i] for i in range(len(traindata['traindata'])) \n",
    "                  if traindata['traindata'][i][\"filename\"].split('/')[6] in w_train_speakers]\n",
    "\n",
    "w_valid_data =  [traindata['traindata'][i] for i in range(len(traindata['traindata'])) \n",
    "                  if traindata['traindata'][i][\"filename\"].split('/')[6] in w_valid_speakers]\n",
    "\n",
    "training_data = m_train_data + w_train_data\n",
    "validation_data = m_valid_data + w_valid_data\n",
    "\n",
    "print(\"Training Data : \", len(training_data)/len(traindata['traindata'])*100)\n",
    "print(\"Validation Data :\", len(validation_data)/len(traindata['traindata'])*100)"
   ]
  },
  {
   "cell_type": "markdown",
   "metadata": {},
   "source": [
    "### 4.5 Acoustic Context (Dynamic Features)"
   ]
  },
  {
   "cell_type": "code",
   "execution_count": 20,
   "metadata": {},
   "outputs": [],
   "source": [
    "def dynamize_features(data, feature_type):\n",
    "    for sample in tqdm(data):\n",
    "        dynamic_features = []\n",
    "        max_idx = len(sample[feature_type]) - 1\n",
    "        for idx, feature in enumerate(sample[feature_type]):\n",
    "            dynamic_feature = np.zeros((7, feature.shape[0]))\n",
    "\n",
    "            dynamic_feature[0] = sample[feature_type][np.abs(idx - 3)]\n",
    "            dynamic_feature[1] = sample[feature_type][np.abs(idx - 2)]\n",
    "            dynamic_feature[2] = sample[feature_type][np.abs(idx - 1)]\n",
    "            dynamic_feature[3] = sample[feature_type][idx]\n",
    "            dynamic_feature[4] = sample[feature_type][max_idx - np.abs(max_idx - (idx + 1))]\n",
    "            dynamic_feature[5] = sample[feature_type][max_idx - np.abs(max_idx - (idx + 2))]\n",
    "            dynamic_feature[6] = sample[feature_type][max_idx - np.abs(max_idx - (idx + 3))]\n",
    "            dynamic_features.append(dynamic_feature)\n",
    "        sample['dynamic_'+feature_type] = np.array(dynamic_features)\n",
    "    return data"
   ]
  },
  {
   "cell_type": "code",
   "execution_count": 21,
   "metadata": {},
   "outputs": [
    {
     "data": {
      "application/vnd.jupyter.widget-view+json": {
       "model_id": "49939e25a46f4ffc8a7be546390deeb7",
       "version_major": 2,
       "version_minor": 0
      },
      "text/plain": [
       "HBox(children=(IntProgress(value=0, max=7699), HTML(value='')))"
      ]
     },
     "metadata": {},
     "output_type": "display_data"
    },
    {
     "name": "stdout",
     "output_type": "stream",
     "text": [
      "\n"
     ]
    },
    {
     "data": {
      "application/vnd.jupyter.widget-view+json": {
       "model_id": "5031e0c01e2f47698224dcc5dca8596d",
       "version_major": 2,
       "version_minor": 0
      },
      "text/plain": [
       "HBox(children=(IntProgress(value=0, max=7699), HTML(value='')))"
      ]
     },
     "metadata": {},
     "output_type": "display_data"
    },
    {
     "name": "stdout",
     "output_type": "stream",
     "text": [
      "\n"
     ]
    },
    {
     "data": {
      "application/vnd.jupyter.widget-view+json": {
       "model_id": "f0bf361d96ba46429755e10bdc0beb86",
       "version_major": 2,
       "version_minor": 0
      },
      "text/plain": [
       "HBox(children=(IntProgress(value=0, max=924), HTML(value='')))"
      ]
     },
     "metadata": {},
     "output_type": "display_data"
    },
    {
     "name": "stdout",
     "output_type": "stream",
     "text": [
      "\n"
     ]
    },
    {
     "data": {
      "application/vnd.jupyter.widget-view+json": {
       "model_id": "8ddc7669e26048c4be684638d6bb9241",
       "version_major": 2,
       "version_minor": 0
      },
      "text/plain": [
       "HBox(children=(IntProgress(value=0, max=924), HTML(value='')))"
      ]
     },
     "metadata": {},
     "output_type": "display_data"
    },
    {
     "name": "stdout",
     "output_type": "stream",
     "text": [
      "\n",
      "Original Features  (214, 13)\n",
      "Dynamic Features  (214, 7, 13)\n"
     ]
    }
   ],
   "source": [
    "training_data = dynamize_features(training_data, 'lmfcc')\n",
    "training_data = dynamize_features(training_data, 'mspec')\n",
    "validation_data = dynamize_features(validation_data, 'lmfcc')\n",
    "validation_data = dynamize_features(validation_data, 'mspec')\n",
    "print(\"Original Features \", validation_data[0][\"lmfcc\"].shape)\n",
    "print(\"Dynamic Features \", validation_data[0]['dynamic_lmfcc'].shape)"
   ]
  },
  {
   "cell_type": "code",
   "execution_count": 22,
   "metadata": {},
   "outputs": [
    {
     "name": "stdout",
     "output_type": "stream",
     "text": [
      "Really!!?\n",
      "nope\n"
     ]
    }
   ],
   "source": [
    "print(\"Really!!?\")\n",
    "a = input()\n",
    "if (a == 'yes'):\n",
    "    testdata = np.load('testdata.npz')\n",
    "    testdata = dict(zip((\"{}\".format(k) for k in tqdm(testdata)), (testdata[k] for k in testdata)))\n",
    "    testdata = [testdata[\"traindata\"][x] for x in tqdm(range(len(testdata[\"traindata\"])))]\n",
    "    print(\"1\")\n",
    "    testing_data = dynamize_features(testdata, 'lmfcc')\n",
    "    testing_data = dynamize_features(testdata, 'mspec')\n",
    "    print(\"2\")\n",
    "    np.savez(\"dynamic_test_data\", testing_data=testing_data)"
   ]
  },
  {
   "cell_type": "code",
   "execution_count": 23,
   "metadata": {},
   "outputs": [
    {
     "name": "stdout",
     "output_type": "stream",
     "text": [
      "Time steps, Features (13, 258)\n"
     ]
    },
    {
     "data": {
      "image/png": "[encoded data removed]",
      "text/plain": [
       "<Figure size 1080x432 with 1 Axes>"
      ]
     },
     "metadata": {
      "needs_background": "light"
     },
     "output_type": "display_data"
    }
   ],
   "source": [
    "lmfcc = training_data[0]['lmfcc']\n",
    "_ = plt.rcParams['figure.figsize'] = [15, 6]\n",
    "_ = plt.subplot(221).set_title(\"LMFCC\")\n",
    "_ = plt.pcolormesh(lmfcc.T)\n",
    "print(\"Time steps, Features\", lmfcc.T.shape)"
   ]
  },
  {
   "cell_type": "markdown",
   "metadata": {},
   "source": [
    "#### checking out the shapes after dynamic features generation"
   ]
  },
  {
   "cell_type": "code",
   "execution_count": 24,
   "metadata": {},
   "outputs": [
    {
     "name": "stdout",
     "output_type": "stream",
     "text": [
      "7699\n",
      "924\n",
      "(258, 7, 13)\n",
      "(214, 7, 13)\n",
      "(258, 7, 40)\n",
      "(214, 7, 40)\n"
     ]
    }
   ],
   "source": [
    "print(len(training_data))\n",
    "print(len(validation_data))\n",
    "\n",
    "lmfcc = training_data[0]['dynamic_lmfcc']\n",
    "print(lmfcc.shape)\n",
    "lmfcc_val = validation_data[0]['dynamic_lmfcc']\n",
    "print(lmfcc_val.shape)\n",
    "mspec = training_data[0]['dynamic_mspec']\n",
    "print(mspec.shape)\n",
    "mspec_val = validation_data[0]['dynamic_mspec']\n",
    "print(mspec_val.shape)"
   ]
  },
  {
   "cell_type": "markdown",
   "metadata": {},
   "source": [
    "#### Extract features and flatten the data for Neural Network"
   ]
  },
  {
   "cell_type": "code",
   "execution_count": 79,
   "metadata": {},
   "outputs": [
    {
     "name": "stdout",
     "output_type": "stream",
     "text": [
      "(1344710, 91)\n",
      "(1344710, 280)\n",
      "(1344710, 1)\n",
      "(162347, 91)\n",
      "(162347, 280)\n",
      "(162347, 1)\n"
     ]
    }
   ],
   "source": [
    "lmfcc_train_x = [training_data[x]['dynamic_lmfcc'] for x in range(len(training_data))]\n",
    "lmfcc_val_x = [validation_data[x]['dynamic_lmfcc'] for x in range(len(validation_data))]\n",
    "\n",
    "mspec_train_x = [training_data[x]['dynamic_mspec'] for x in range(len(training_data))]\n",
    "mspec_val_x = [validation_data[x]['dynamic_mspec'] for x in range(len(validation_data))]\n",
    "\n",
    "train_y = np.asarray([training_data[x]['targets'] for x in range(len(training_data))])\n",
    "val_y = np.asarray([validation_data[x]['targets'] for x in range(len(validation_data))])\n",
    "\n",
    "lmfcc_train_x = np.concatenate(lmfcc_train_x, axis = 0)\n",
    "lmfcc_train_x = np.reshape(lmfcc_train_x,(lmfcc_train_x.shape[0], lmfcc_train_x.shape[1]*lmfcc_train_x.shape[2]))\n",
    "\n",
    "lmfcc_val_x = np.concatenate(lmfcc_val_x, axis = 0)\n",
    "lmfcc_val_x = np.reshape(lmfcc_val_x,(lmfcc_val_x.shape[0], lmfcc_val_x.shape[1]*lmfcc_val_x.shape[2]))\n",
    "\n",
    "mspec_train_x = np.concatenate(mspec_train_x, axis = 0)\n",
    "mspec_train_x = np.reshape(mspec_train_x,(mspec_train_x.shape[0], mspec_train_x.shape[1]*mspec_train_x.shape[2]))\n",
    "\n",
    "mspec_val_x = np.concatenate(mspec_val_x, axis = 0)\n",
    "mspec_val_x = np.reshape(mspec_val_x,(mspec_val_x.shape[0], mspec_val_x.shape[1]*mspec_val_x.shape[2]))\n",
    "\n",
    "\n",
    "train_y = np.concatenate(train_y, axis = 0)\n",
    "train_y = np.reshape(train_y,(train_y.shape[0],1))\n",
    "\n",
    "val_y = np.concatenate(val_y, axis = 0)\n",
    "val_y = np.reshape(val_y,(val_y.shape[0],1))\n",
    "\n",
    "print(lmfcc_train_x.shape)\n",
    "print(mspec_train_x.shape)\n",
    "print(train_y.shape)\n",
    "\n",
    "print(lmfcc_val_x.shape)\n",
    "print(mspec_val_x.shape)\n",
    "print(val_y.shape)"
   ]
  },
  {
   "cell_type": "code",
   "execution_count": 76,
   "metadata": {},
   "outputs": [],
   "source": [
    "def get_train_val(training_data, validation_data, feature_type = 'lmfcc'):\n",
    "    \n",
    "    train_x = [training_data[x]['dynamic_'+feature_type] for x in range(len(training_data))]\n",
    "    val_x = [validation_data[x]['dynamic_'+feature_type] for x in range(len(validation_data))]\n",
    "    \n",
    "    train_y = np.asarray([training_data[x]['targets'] for x in range(len(training_data))])\n",
    "    val_y = np.asarray([validation_data[x]['targets'] for x in range(len(validation_data))])\n",
    "\n",
    "    train_x = np.concatenate(train_x, axis = 0)\n",
    "    train_x = np.reshape(train_x,(train_x.shape[0], train_x.shape[1]*train_x.shape[2]))\n",
    "\n",
    "    val_x = np.concatenate(val_x, axis = 0)\n",
    "    val_x = np.reshape(val_x,(val_x.shape[0], val_x.shape[1]*val_x.shape[2]))\n",
    "        \n",
    "    train_y = np.concatenate(train_y, axis = 0)\n",
    "    train_y = np.reshape(train_y,(train_y.shape[0],1))\n",
    "\n",
    "    val_y = np.concatenate(val_y, axis = 0)\n",
    "    val_y = np.reshape(val_y,(val_y.shape[0],1))\n",
    "    \n",
    "    \n",
    "    #this case we are using only lmfcc replace lmfcc with mspec if needed\n",
    "    #TODO should do this for test as aswell ..using the same scaler\n",
    "    scaler = StandardScaler()\n",
    "    scaler = scaler.fit(train_x)\n",
    "\n",
    "    train_x = scaler.transform(train_x)\n",
    "    val_x = scaler.transform(val_x)\n",
    "\n",
    "    train_x = train_x.astype('float32')\n",
    "    val_x = val_x.astype('float32')\n",
    "\n",
    "    stateList = list()\n",
    "    with open('stateList.txt') as f:\n",
    "        for line in f:\n",
    "            stateList.append(line.strip('\\n'))\n",
    "    output_dim = len(stateList)\n",
    "\n",
    "    #Categorial format of ground truth\n",
    "    train_y = np_utils.to_categorical(train_y, output_dim)\n",
    "    val_y = np_utils.to_categorical(val_y, output_dim)\n",
    "    \n",
    "    #scaler to repeat for test\n",
    "    return train_x, train_y, val_x, val_y, scaler"
   ]
  },
  {
   "cell_type": "code",
   "execution_count": 77,
   "metadata": {},
   "outputs": [],
   "source": [
    "train_x, train_y, validation_x, validation_y, scaler = get_train_val(training_data, validation_data, 'lmfcc')"
   ]
  },
  {
   "cell_type": "code",
   "execution_count": 83,
   "metadata": {},
   "outputs": [
    {
     "name": "stdout",
     "output_type": "stream",
     "text": [
      "(1344710, 91)\n",
      "(1344710, 1)\n",
      "(162347, 91)\n",
      "(162347, 1)\n",
      "(91,)\n",
      "(1,)\n"
     ]
    }
   ],
   "source": [
    "print(train_x.shape)\n",
    "print(train_y.shape)\n",
    "\n",
    "print(validation_x.shape)\n",
    "print(validation_y.shape)\n",
    "\n",
    "print(train_x[0].shape)\n",
    "print(train_y[0].shape)"
   ]
  },
  {
   "cell_type": "code",
   "execution_count": 82,
   "metadata": {},
   "outputs": [
    {
     "name": "stdout",
     "output_type": "stream",
     "text": [
      "(1344710, 1)\n"
     ]
    }
   ],
   "source": [
    "print(train_y.shape)"
   ]
  },
  {
   "cell_type": "markdown",
   "metadata": {},
   "source": [
    "### 4.6 Feature Standardisation"
   ]
  },
  {
   "cell_type": "code",
   "execution_count": null,
   "metadata": {},
   "outputs": [],
   "source": [
    "#this case we are using only lmfcc replace lmfcc with mspec if needed\n",
    "#TODO should do this for test as aswell ..using the same scaler\n",
    "scaler = StandardScaler()\n",
    "scaler = scaler.fit(lmfcc_train_x)\n",
    "\n",
    "lmfcc_train_x = scaler.transform(lmfcc_train_x)\n",
    "lmfcc_val_x = scaler.transform(lmfcc_val_x)\n",
    "\n",
    "lmfcc_train_x = lmfcc_train_x.astype('float32')\n",
    "lmfcc_val_x = lmfcc_val_x.astype('float32')\n",
    "\n",
    "stateList = list()\n",
    "with open('stateList.txt') as f:\n",
    "    for line in f:\n",
    "        stateList.append(line.strip('\\n'))\n",
    "output_dim = len(stateList)\n",
    "\n",
    "#Categorial format of ground truth\n",
    "train_y = np_utils.to_categorical(train_y, output_dim)\n",
    "val_y = np_utils.to_categorical(val_y, output_dim)"
   ]
  },
  {
   "cell_type": "code",
   "execution_count": null,
   "metadata": {},
   "outputs": [],
   "source": [
    "print(lmfcc_train_x[0].shape)\n",
    "print(train_y[0])\n",
    "print(train_y[0].shape)\n",
    "print(lmfcc_train_x.shape)"
   ]
  },
  {
   "cell_type": "markdown",
   "metadata": {},
   "source": [
    "### Final data samples for training"
   ]
  },
  {
   "cell_type": "code",
   "execution_count": 65,
   "metadata": {},
   "outputs": [],
   "source": [
    "np.savez(\"sample_train_x\", train=lmfcc_train_x[0:12,:])\n",
    "np.savez(\"sample_train_y\", train=lmfcc_val_x[0:12,:])\n",
    "np.savez(\"sample_val_x\", val=train_y[0:12,:])\n",
    "np.savez(\"sample_val_y\", val=val_y[0:12,:])"
   ]
  },
  {
   "cell_type": "markdown",
   "metadata": {},
   "source": [
    "### 5 Phoneme Recognition with Deep Neural Networks"
   ]
  },
  {
   "cell_type": "code",
   "execution_count": null,
   "metadata": {},
   "outputs": [],
   "source": []
  }
 ],
 "metadata": {
  "kernelspec": {
   "display_name": "Python 3",
   "language": "python",
   "name": "python3"
  },
  "language_info": {
   "codemirror_mode": {
    "name": "ipython",
    "version": 3
   },
   "file_extension": ".py",
   "mimetype": "text/x-python",
   "name": "python",
   "nbconvert_exporter": "python",
   "pygments_lexer": "ipython3",
   "version": "3.5.2"
  }
 },
 "nbformat": 4,
 "nbformat_minor": 2
}
