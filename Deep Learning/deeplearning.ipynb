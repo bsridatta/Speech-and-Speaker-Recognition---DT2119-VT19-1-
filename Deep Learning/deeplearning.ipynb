{
 "cells": [
  {
   "cell_type": "markdown",
   "metadata": {},
   "source": [
    "## Speech and Speaker Recognition - DT2119 VT19-1 \n",
    "\n",
    "### Phoneme Recognition with Deep Neural Networks - Lab 3"
   ]
  },
  {
   "cell_type": "code",
   "execution_count": 1,
   "metadata": {},
   "outputs": [],
   "source": [
    "from __future__ import print_function\n",
    "\n",
    "import numpy as np\n",
    "import math\n",
    "\n",
    "from lab2_tools import *\n",
    "from lab2_proto import *\n",
    "\n",
    "import prondict as prondict\n",
    "\n",
    "from matplotlib import pyplot as plt\n",
    "import seaborn as sns\n",
    "\n",
    "import warnings\n",
    "%matplotlib inline\n",
    "from tqdm import tqdm"
   ]
  },
  {
   "cell_type": "markdown",
   "metadata": {},
   "source": [
    "### 3 Data and model set"
   ]
  },
  {
   "cell_type": "code",
   "execution_count": 2,
   "metadata": {
    "scrolled": true
   },
   "outputs": [
    {
     "name": "stdout",
     "output_type": "stream",
     "text": [
      "digit\to\n",
      "obsloglik\t(71, 9)\n",
      "logalpha\t(71, 9)\n",
      "logbeta\t(71, 9)\n",
      "gender\twoman\n",
      "filename\t/home/giampi/corpora/tidigits/disc_4.2.1/tidigits/test/woman/ew/oa.wav\n",
      "samplingrate\t20000\n",
      "vloglik\t()\n",
      "speaker\tew\n",
      "samples\t(14592,)\n",
      "loglik\t()\n",
      "lmfcc\t(71, 13)\n",
      "repetition\ta\n",
      "loggamma\t(71, 9)\n",
      "vpath\t(71,)\n"
     ]
    }
   ],
   "source": [
    "example = np.load('lab2_example.npz')['example'].item()\n",
    "for x in example.keys(): \n",
    "    print(x, end = '\\t')\n",
    "    if x in ['digit', 'gender', 'filename', 'samplingrate', 'speaker', 'repetition']:\n",
    "        print(example.get(x))\n",
    "    else:\n",
    "        print(example.get(x).shape)"
   ]
  },
  {
   "cell_type": "code",
   "execution_count": 3,
   "metadata": {},
   "outputs": [
    {
     "name": "stdout",
     "output_type": "stream",
     "text": [
      "digit\to\n",
      "gender\twoman\n",
      "filename\t/home/giampi/corpora/tidigits/disc_4.2.1/tidigits/test/woman/ew/oa.wav\n",
      "samplingrate\t20000\n",
      "speaker\tew\n",
      "samples\t(14592,)\n",
      "lmfcc\t(71, 13)\n",
      "repetition\ta\n"
     ]
    }
   ],
   "source": [
    "data = np.load('lab2_data.npz')['data']\n",
    "for x in data[0]: \n",
    "    print(x, end = '\\t')\n",
    "    \n",
    "    if x in ['digit', 'gender', 'filename', 'samplingrate', 'speaker', 'repetition']:\n",
    "        print(example.get(x))\n",
    "    else:\n",
    "        print(example.get(x).shape)"
   ]
  },
  {
   "cell_type": "markdown",
   "metadata": {},
   "source": [
    "### 3.1 The phonetic models"
   ]
  },
  {
   "cell_type": "code",
   "execution_count": 4,
   "metadata": {},
   "outputs": [
    {
     "name": "stdout",
     "output_type": "stream",
     "text": [
      "iy\teh\tf\tah\tk\tsp\tth\tow\tao\tn\tih\ts\tr\tey\tt\tw\tv\tay\tz\tuw\tsil\t\n",
      " 21\n"
     ]
    }
   ],
   "source": [
    "phoneHMMs_one = np.load('lab2_models_onespkr.npz')['phoneHMMs'].item()\n",
    "for x in phoneHMMs_one.keys(): \n",
    "    print(x, end = '\\t')\n",
    "print('\\n', len(phoneHMMs_one))"
   ]
  },
  {
   "cell_type": "code",
   "execution_count": 5,
   "metadata": {},
   "outputs": [
    {
     "name": "stdout",
     "output_type": "stream",
     "text": [
      "phoneHMMs\n"
     ]
    }
   ],
   "source": [
    "models = np.load('lab2_models_all.npz')\n",
    "for k in models.files:\n",
    "    print(k)"
   ]
  },
  {
   "cell_type": "code",
   "execution_count": 6,
   "metadata": {},
   "outputs": [
    {
     "name": "stdout",
     "output_type": "stream",
     "text": [
      "iy\teh\tf\tah\tk\tsp\tth\tow\tao\tn\tih\ts\tr\tey\tt\tw\tv\tay\tz\tuw\tsil\t"
     ]
    }
   ],
   "source": [
    "phoneHMMs_all = np.load('lab2_models_all.npz')['phoneHMMs'].item()\n",
    "for x in phoneHMMs_all.keys(): print(x, end = '\\t')"
   ]
  },
  {
   "cell_type": "code",
   "execution_count": 7,
   "metadata": {
    "scrolled": true
   },
   "outputs": [
    {
     "name": "stdout",
     "output_type": "stream",
     "text": [
      "[u'transmat', u'covars', u'startprob', u'name', u'means']\n"
     ]
    }
   ],
   "source": [
    "print(phoneHMMs_one['ah'].keys())"
   ]
  },
  {
   "cell_type": "markdown",
   "metadata": {},
   "source": [
    "### 3.2 Pronunciation dictionary and utterance models"
   ]
  },
  {
   "cell_type": "code",
   "execution_count": 8,
   "metadata": {},
   "outputs": [],
   "source": [
    "prondict = {} \n",
    "prondict['o'] = ['ow']\n",
    "prondict['z'] = ['z', 'iy', 'r', 'ow']\n",
    "prondict['1'] = ['w', 'ah', 'n']\n",
    "prondict['2'] = ['t', 'uw']\n",
    "prondict['3'] = ['th', 'r', 'iy']\n",
    "prondict['4'] = ['f', 'ao', 'r']\n",
    "prondict['5'] = ['f', 'ay', 'v']\n",
    "prondict['6'] = ['s', 'ih', 'k', 's']\n",
    "prondict['7'] = ['s', 'eh', 'v', 'ah', 'n']\n",
    "prondict['8'] = ['ey', 't']\n",
    "prondict['9'] = ['n', 'ay', 'n']"
   ]
  },
  {
   "cell_type": "markdown",
   "metadata": {},
   "source": [
    "### 4 Concatenating HMMs"
   ]
  },
  {
   "cell_type": "code",
   "execution_count": 9,
   "metadata": {},
   "outputs": [],
   "source": [
    "# this is already implemented, but based on concat2HMMs() above\n",
    "def concatHMMs(hmmmodels, namelist):\n",
    "    \"\"\" Concatenates HMM models in a left to right manner\n",
    "\n",
    "    Args:\n",
    "       hmmmodels: dictionary of models indexed by model name. \n",
    "       hmmmodels[name] is a dictionaries with the following keys:\n",
    "           name: phonetic or word symbol corresponding to the model\n",
    "           startprob: M+1 array with priori probability of state\n",
    "           transmat: (M+1)x(M+1) transition matrix\n",
    "           means: MxD array of mean vectors\n",
    "           covars: MxD array of variances\n",
    "       namelist: list of model names that we want to concatenate\n",
    "\n",
    "    D is the dimension of the feature vectors\n",
    "    M is the number of emitting states in each HMM model (could be\n",
    "      different in each model)\n",
    "\n",
    "    Output\n",
    "       combinedhmm: dictionary with the same keys as the input but\n",
    "                    combined models:\n",
    "         startprob: K+1 array with priori probability of state\n",
    "          transmat: (K+1)x(K+1) transition matrix\n",
    "             means: KxD array of mean vectors\n",
    "            covars: KxD array of variances\n",
    "\n",
    "    K is the sum of the number of emitting states from the input models\n",
    "\n",
    "    Example:\n",
    "       wordHMMs['o'] = concatHMMs(phoneHMMs, ['sil', 'ow', 'sil'])\n",
    "    \"\"\"\n",
    "    concat = hmmmodels[namelist[0]]\n",
    "    for idx in range(1,len(namelist)):\n",
    "        concat = concatTwoHMMs(concat, hmmmodels[namelist[idx]])\n",
    "    return concat"
   ]
  },
  {
   "cell_type": "code",
   "execution_count": 10,
   "metadata": {},
   "outputs": [],
   "source": [
    "def concatTwoHMMs(hmm1, hmm2):\n",
    "    \"\"\" Concatenates 2 HMM models\n",
    "\n",
    "    Args:\n",
    "       hmm1, hmm2: two dictionaries with the following keys:\n",
    "           name: phonetic or word symbol corresponding to the model\n",
    "           startprob: M+1 array with priori probability of state\n",
    "           transmat: (M+1)x(M+1) transition matrix\n",
    "           means: MxD array of mean vectors\n",
    "           covars: MxD array of variances\n",
    "\n",
    "    D is the dimension of the feature vectors\n",
    "    M is the number of emitting states in each HMM model (could be different for each)\n",
    "\n",
    "    Output\n",
    "       dictionary with the same keys as the input but concatenated models:\n",
    "          startprob: K+1 array with priori probability of state\n",
    "          transmat: (K+1)x(K+1) transition matrix\n",
    "             means: KxD array of mean vectors\n",
    "            covars: KxD array of variances\n",
    "\n",
    "    K is the sum of the number of emitting states from the input models\n",
    "   \n",
    "    Example:\n",
    "       twoHMMs = concatHMMs(phoneHMMs['sil'], phoneHMMs['ow'])\n",
    "\n",
    "    See also: the concatenating_hmms.pdf document in the lab package\n",
    "    \"\"\"\n",
    "    concatedHMM = {}\n",
    "    #M is the number of emitting states in each HMM model (could be different for each)\n",
    "    #K is the sum of the number of emitting states from the input models\n",
    "    \n",
    "    M1 = hmm1['means'].shape[0]\n",
    "    M2 = hmm2['means'].shape[0]\n",
    "    K = M1 + M2\n",
    "    \n",
    "    concatedHMM['name'] = hmm1['name'] + hmm2['name']\n",
    "    concatedHMM['startprob'] = np.zeros((K + 1, 1))\n",
    "    concatedHMM['transmat'] = np.zeros((K + 1, K + 1))\n",
    "    concatedHMM['means'] = np.vstack((hmm1['means'],hmm2['means']))\n",
    "    concatedHMM['covars'] = np.vstack((hmm1['covars'],hmm2['covars']))\n",
    "        \n",
    "    \n",
    "    start1 = hmm1['startprob'].reshape(-1,1)\n",
    "    start2 = hmm2['startprob'].reshape(-1,1)\n",
    "    \n",
    "    concatedHMM['startprob'][:hmm1['startprob'].shape[0]-1,:] = start1[:-1,:]\n",
    "    concatedHMM['startprob'][hmm1['startprob'].shape[0]-1:,:] = np.dot(start1[-1,0],start2)\n",
    "    trans = concatedHMM['transmat']\n",
    "    trans1 = hmm1['transmat']\n",
    "    trans2 = hmm2['transmat']\n",
    "\n",
    "    trans[:trans1.shape[0]-1,:trans1.shape[1]-1] = trans1[:-1,:-1]\n",
    "    temp = trans1[:-1,-1].reshape(-1,1)\n",
    "    trans[:trans1.shape[0]-1,trans1.shape[1]-1:] = \\\n",
    "                            np.dot(temp,start2.T)\n",
    "    trans[trans1.shape[0]-1:,trans1.shape[1]-1:] = trans2\n",
    "    concatedHMM['transmat'] = trans    \n",
    "    \n",
    "    return concatedHMM"
   ]
  },
  {
   "cell_type": "markdown",
   "metadata": {},
   "source": [
    "### 4.1 Example"
   ]
  },
  {
   "cell_type": "code",
   "execution_count": 11,
   "metadata": {},
   "outputs": [
    {
     "data": {
      "image/png": "[encoded data removed]",
      "text/plain": [
       "<Figure size 432x288 with 4 Axes>"
      ]
     },
     "metadata": {
      "needs_background": "light"
     },
     "output_type": "display_data"
    }
   ],
   "source": [
    "isolated = {}\n",
    "wordHMMs = {}\n",
    "for digit in prondict.keys():\n",
    "    isolated[digit] = ['sil'] + prondict[digit] + ['sil']\n",
    "    wordHMMs[digit] = concatHMMs(phoneHMMs_one, isolated[digit])\n",
    "_ = plt.subplot(122).set_title(\"Transmat\")\n",
    "_ = plt.pcolormesh(wordHMMs['o']['transmat'].T)\n",
    "_ = plt.colorbar()\n",
    "_ = plt.subplot(121).set_title(\"Start\")\n",
    "_ = plt.pcolormesh(wordHMMs['o']['startprob'].T)\n",
    "_ = plt.colorbar()"
   ]
  },
  {
   "cell_type": "markdown",
   "metadata": {},
   "source": [
    "### 5.1 Gaussian emission probabilities"
   ]
  },
  {
   "cell_type": "code",
   "execution_count": 12,
   "metadata": {
    "scrolled": true
   },
   "outputs": [
    {
     "name": "stdout",
     "output_type": "stream",
     "text": [
      "obsloglik  ✓\n"
     ]
    },
    {
     "data": {
      "image/png": "[encoded data removed]",
      "text/plain": [
       "<Figure size 1080x216 with 2 Axes>"
      ]
     },
     "metadata": {
      "needs_background": "light"
     },
     "output_type": "display_data"
    }
   ],
   "source": [
    "obsloglik = log_multivariate_normal_density_diag(example['lmfcc'], wordHMMs['o']['means'], wordHMMs['o']['covars'])  \n",
    "if np.allclose(obsloglik, example[\"obsloglik\"]):\n",
    "    print(\"obsloglik \", u'\\u2713')\n",
    "_ = plt.rcParams['figure.figsize'] = [15, 3]\n",
    "_ = plt.subplot(121).set_title(\"Observation Likelihood\")\n",
    "_ = plt.pcolormesh(obsloglik.T)\n",
    "_ = plt.colorbar()\n",
    "_ = plt.yticks(range(1,10), verticalalignment='top')\n",
    "_ = plt.xlabel('Frames in sample')\n",
    "_ = plt.ylabel('sil-o-sil (9 states)')\n",
    "# _ = plt.subplot(122).set_title(\"Example\")\n",
    "# _ = plt.pcolormesh(example[\"obsloglik\"].T)"
   ]
  },
  {
   "cell_type": "markdown",
   "metadata": {},
   "source": [
    "Here we plot the probablities of each state given an instance in the utterance of the sound.  \n",
    "And we also know that each phoneme's model is made of 3 states. So the word model on O is made of 3 phoneme models of O(ow) and 2 sil's in the start and end. So the first and last frames of the sample are mostly silent and the middle frames correspond to the word 'O'\n",
    "\n",
    "From the color bar blue is negative 700 i.e the pobability that the model is that state given the corresponding frame is lower and higher when its yellow.\n",
    "\n",
    "Thus as expected the start and end of the sample is more yellow in the states 1,2,3 and 7,8,9 and yellow in the middle in states of 4,5,6 which is the word 'O'"
   ]
  },
  {
   "cell_type": "markdown",
   "metadata": {},
   "source": [
    "### 5.2 Forward Algorithm"
   ]
  },
  {
   "cell_type": "code",
   "execution_count": 13,
   "metadata": {},
   "outputs": [],
   "source": [
    "def forward(log_emlik, log_startprob, log_transmat):\n",
    "    \"\"\"Forward (alpha) probabilities in log domain.\n",
    "\n",
    "    Args:\n",
    "        log_emlik: NxM array of emission log likelihoods, N frames, M states\n",
    "        log_startprob: log probability to start in state i\n",
    "        log_transmat: log transition probability from state i to j\n",
    "\n",
    "    Output:\n",
    "        forward_prob: NxM array of forward log probabilities for each of the M states in the model\n",
    "    \"\"\"\n",
    "    alpha = np.zeros(log_emlik.shape)\n",
    "    alpha[0][:] = log_startprob.T + log_emlik[0]\n",
    "\n",
    "    for n in range(1,len(alpha)):\n",
    "        for i in range(alpha.shape[1]):\n",
    "            alpha[n, i] = logsumexp(alpha[n - 1] + log_transmat[:,i]) + log_emlik[n,i]\n",
    "    return alpha"
   ]
  },
  {
   "cell_type": "code",
   "execution_count": 14,
   "metadata": {
    "code_folding": []
   },
   "outputs": [
    {
     "name": "stderr",
     "output_type": "stream",
     "text": [
      "/usr/local/lib/python2.7/dist-packages/ipykernel_launcher.py:2: RuntimeWarning: divide by zero encountered in log\n",
      "  \n",
      "/usr/local/lib/python2.7/dist-packages/ipykernel_launcher.py:3: RuntimeWarning: divide by zero encountered in log\n",
      "  This is separate from the ipykernel package so we can avoid doing imports until\n"
     ]
    },
    {
     "name": "stdout",
     "output_type": "stream",
     "text": [
      "alpha  ✓\n"
     ]
    },
    {
     "data": {
      "image/png": "[encoded data removed]",
      "text/plain": [
       "<Figure size 1080x216 with 2 Axes>"
      ]
     },
     "metadata": {
      "needs_background": "light"
     },
     "output_type": "display_data"
    }
   ],
   "source": [
    "obsloglik = log_multivariate_normal_density_diag(example['lmfcc'], wordHMMs['o']['means'], wordHMMs['o']['covars'])  \n",
    "log_startprob = np.log(wordHMMs['o']['startprob'][:-1])\n",
    "log_transmat = np.log(wordHMMs['o']['transmat'][:-1,:-1])\n",
    "alpha = forward(obsloglik, log_startprob, log_transmat) \n",
    "if np.allclose(alpha, example[\"logalpha\"]):\n",
    "    print(\"alpha \", u'\\u2713')\n",
    "_ = plt.rcParams['figure.figsize'] = [15, 3]\n",
    "_ = plt.subplot(111).set_title(\"Alpha\")\n",
    "_ = plt.pcolormesh(alpha.T)\n",
    "_ = plt.colorbar()\n",
    "_ = plt.yticks(range(1,10), verticalalignment='top')\n",
    "_ = plt.xlabel('Frames in sample')\n",
    "_ = plt.ylabel('sil-o-sil (9 states)')\n",
    "# _ = plt.subplot(122).set_title(\"Example\")\n",
    "# _ = plt.pcolormesh(example[\"logalpha\"].T)"
   ]
  },
  {
   "cell_type": "markdown",
   "metadata": {},
   "source": [
    "Forward Pass: The probabilty of observing a given sequence till that given time being in a particular state.\n",
    "In other words \n",
    "##### probability of being in a state given a sequence\n",
    "\n",
    "As given 1 sample, the model can obviously can not reach state 2 or ...9 hence their probabilty is 0 whose log is -inf and therefore not displayed on colormap with the warning divide by zero.\n",
    "\n",
    "So from the observation likelihood calculated in the previous section, we observed that the utterance of O lies in the frames 10-50 after which 2nd silence would start. This alpha pass shows that same with higher values in 4-6 states in 10-50 frames. Also as the frames move to end the probabilities of states tend to increase as we move from state 1 to 9.\n",
    "\n",
    "Note that the comparision of the probabilites between the frames has to be seen w.r.t to the particular frame and not in the whole colormesh."
   ]
  },
  {
   "cell_type": "markdown",
   "metadata": {},
   "source": [
    "#### the likelihood P(X|θ) of the whole sequence X = {x0, . . . , xN−1}, given the model parameters θ \n",
    "As discussed before, alpha is the probabilty of observing a given sequence till that given time being in a particular state. \n",
    "Hence the total probabilty of obeserving such a sequence with the given model is the sum of probabilties to observe the given sequence over all the possible states. "
   ]
  },
  {
   "cell_type": "code",
   "execution_count": 15,
   "metadata": {},
   "outputs": [
    {
     "name": "stdout",
     "output_type": "stream",
     "text": [
      "loglik  ✓\n",
      "-5970.427602563561\n"
     ]
    }
   ],
   "source": [
    "hmm_loglik = logsumexp(alpha[-1]) #last coloum in alpha.T which is given all observations \n",
    "if np.allclose(hmm_loglik, example[\"loglik\"]):\n",
    "    print(\"loglik \", u'\\u2713')\n",
    "    print(hmm_loglik)"
   ]
  },
  {
   "cell_type": "code",
   "execution_count": 16,
   "metadata": {},
   "outputs": [
    {
     "data": {
      "image/png": "[encoded data removed]",
      "text/plain": [
       "<Figure size 1080x216 with 4 Axes>"
      ]
     },
     "metadata": {
      "needs_background": "light"
     },
     "output_type": "display_data"
    }
   ],
   "source": [
    "isolated = {}\n",
    "wordHMMs_all = {}\n",
    "for digit in prondict.keys():\n",
    "    isolated[digit] = ['sil'] + prondict[digit] + ['sil']\n",
    "    wordHMMs_all[digit] = concatHMMs(phoneHMMs_all, isolated[digit])\n",
    "_ = plt.subplot(122).set_title(\"Transmat\")\n",
    "_ = plt.pcolormesh(wordHMMs_all['o']['transmat'].T)\n",
    "_ = plt.colorbar()\n",
    "_ = plt.subplot(121).set_title(\"Start\")\n",
    "_ = plt.pcolormesh(wordHMMs_all['o']['startprob'].T)\n",
    "_ = plt.colorbar()"
   ]
  },
  {
   "cell_type": "code",
   "execution_count": 17,
   "metadata": {},
   "outputs": [
    {
     "name": "stdout",
     "output_type": "stream",
     "text": [
      "CPU times: user 23.3 s, sys: 60 ms, total: 23.4 s\n",
      "Wall time: 23.3 s\n"
     ]
    }
   ],
   "source": [
    "%%time\n",
    "warnings.filterwarnings('ignore')\n",
    "performance = np.zeros((44,11))\n",
    "#for words in wordHMMs: print(words, end = \"\\t\")\n",
    "#print()\n",
    "no_utterance = 0\n",
    "for utterance in data:\n",
    "    no_word = 0 \n",
    "    for word in wordHMMs_all:\n",
    "        obsloglik = log_multivariate_normal_density_diag(utterance['lmfcc'], wordHMMs_all[word]['means'], wordHMMs_all[word]['covars'])  \n",
    "        log_startprob = np.log(wordHMMs_all[word]['startprob'][:-1])\n",
    "        log_transmat = np.log(wordHMMs_all[word]['transmat'][:-1,:-1])\n",
    "        alpha = forward(obsloglik, log_startprob, log_transmat) \n",
    "        hmm_loglik = logsumexp(alpha[-1]) \n",
    "        performance[no_utterance, no_word] = hmm_loglik\n",
    "        #print(int(hmm_loglik), end = \"\\t\")\n",
    "        #print(no_utterance,no_word ,end = '\\t')\n",
    "        no_word += 1\n",
    "    #print()\n",
    "    no_utterance += 1\n",
    "#uncomment prints to display as tables with integer values"
   ]
  },
  {
   "cell_type": "code",
   "execution_count": 18,
   "metadata": {},
   "outputs": [
    {
     "data": {
      "image/png": "[encoded data removed]",
      "text/plain": [
       "<Figure size 1080x216 with 2 Axes>"
      ]
     },
     "metadata": {
      "needs_background": "light"
     },
     "output_type": "display_data"
    }
   ],
   "source": [
    "all_words = []\n",
    "for x in wordHMMs_all: all_words.append(x)\n",
    "all_utterance = []   \n",
    "for x in data: all_utterance.append(x['digit'])\n",
    "_ = plt.rcParams['figure.figsize'] = [15, 3]\n",
    "_ = plt.subplot(111).set_title(\"Performance of HMMs\")\n",
    "_ = plt.pcolormesh(performance.T)\n",
    "_ = plt.colorbar()\n",
    "_ = plt.ylabel('Word Models')\n",
    "_ = plt.xlabel('utterances')\n",
    "_ = plt.yticks(range(len(all_words)), all_words, verticalalignment = 'bottom')\n",
    "_ = plt.xticks(range(len(all_utterance)), all_utterance, horizontalalignment = 'left')"
   ]
  },
  {
   "cell_type": "code",
   "execution_count": 19,
   "metadata": {
    "scrolled": true
   },
   "outputs": [
    {
     "name": "stdout",
     "output_type": "stream",
     "text": [
      "Accuracy : 97.7272727273\n"
     ]
    },
    {
     "data": {
      "image/png": "[encoded data removed]",
      "text/plain": [
       "<Figure size 1080x216 with 1 Axes>"
      ]
     },
     "metadata": {
      "needs_background": "light"
     },
     "output_type": "display_data"
    }
   ],
   "source": [
    "performance_max = np.copy(performance.T)\n",
    "predictions_alpha = (performance_max == performance_max.max(axis = 0,keepdims = 1))\n",
    "_ = plt.rcParams['figure.figsize'] = [15, 3]\n",
    "_ = plt.subplot(111).set_title(\"Performance of HMMs\")\n",
    "_ = plt.pcolormesh(predictions_alpha)\n",
    "_ = plt.ylabel('Word Models')\n",
    "_ = plt.xlabel('utterances')\n",
    "_ = plt.yticks(range(len(all_words)), all_words, verticalalignment = 'bottom')\n",
    "_ = plt.xticks(range(len(all_utterance)), all_utterance, horizontalalignment = 'left')\n",
    "match = 0\n",
    "for i in range(len(all_words)):\n",
    "    for j in range(len(all_utterance)):\n",
    "        if(predictions_alpha[i,j] == True and all_words[i] == all_utterance[j]):\n",
    "            match += 1\n",
    "print(\"Accuracy :\", 100*float(match)/predictions_alpha.shape[1])"
   ]
  },
  {
   "cell_type": "markdown",
   "metadata": {},
   "source": [
    "###### Complexity:\n",
    "CPU times: user 20.9 s, sys: 28 ms, total: 21 s   \n",
    "Wall time: 20.9 s\n",
    "###### Accuracy\n",
    "One Speaker - 77.27% \n",
    "All Speakers - 97.72%"
   ]
  },
  {
   "cell_type": "markdown",
   "metadata": {},
   "source": [
    "### 5.3 Viterbi Approximation\n",
    "##### finding the most likely sequence of hidden states"
   ]
  },
  {
   "cell_type": "code",
   "execution_count": 20,
   "metadata": {},
   "outputs": [],
   "source": [
    "def viterbi(log_emlik, log_startprob, log_transmat, forceFinalState=True):\n",
    "    \"\"\"Viterbi path.\n",
    "\n",
    "    Args:\n",
    "        log_emlik: NxM array of emission log likelihoods, N frames, M states\n",
    "        log_startprob: log probability to start in state i\n",
    "        log_transmat: transition log probability from state i to j\n",
    "        forceFinalState: if True, start backtracking from the final state in\n",
    "                  the model, instead of the best state at the last time step\n",
    "\n",
    "    Output:\n",
    "        viterbi_loglik: log likelihood of the best path\n",
    "        viterbi_path: best path\n",
    "    \"\"\"\n",
    "    \n",
    "    N = log_emlik.shape[0]\n",
    "    M = log_emlik.shape[1]\n",
    "    \n",
    "    viterbi_path = np.empty((N), dtype=np.int)\n",
    "    viterbi_loglik = 0\n",
    "    V = np.zeros((N,M))\n",
    "    B = np.zeros((N,M))\n",
    "    \n",
    "    for j in range(M):\n",
    "        V[0, j] = log_startprob[j] + log_emlik[0,j]\n",
    "        \n",
    "    for n in range(1,N):\n",
    "        for j in range(M):\n",
    "            V[n, j] = np.max(V[n-1,:] + log_transmat[:,j]) + log_emlik[n,j]\n",
    "            B[n, j] = np.argmax(V[n-1,:] + log_transmat[:,j])\n",
    "    \n",
    "    viterbi_path[-1] = np.argmax(V[-1, :])\n",
    "    viterbi_loglik = V[N-1, viterbi_path[-1]]\n",
    "    \n",
    "    for n in range(0,N-1):\n",
    "        viterbi_path[n] += np.max(V[n-1,:])\n",
    "    \n",
    "    for n in reversed(range(N-1)):\n",
    "        for j in range(M):\n",
    "            viterbi_path[n] = B[n+1, viterbi_path[n+1]]\n",
    "            \n",
    "    return (viterbi_loglik, viterbi_path)"
   ]
  },
  {
   "cell_type": "code",
   "execution_count": 21,
   "metadata": {},
   "outputs": [
    {
     "name": "stdout",
     "output_type": "stream",
     "text": [
      "vloglik  ✓\n",
      "vpath  ✓\n"
     ]
    }
   ],
   "source": [
    "obsloglik = log_multivariate_normal_density_diag(example['lmfcc'], wordHMMs['o']['means'], wordHMMs['o']['covars'])  \n",
    "log_startprob = np.log(wordHMMs['o']['startprob'][:-1])\n",
    "log_transmat = np.log(wordHMMs['o']['transmat'][:-1,:-1])\n",
    "alpha = forward(obsloglik, log_startprob, log_transmat) \n",
    "vloglik, vpath = viterbi(obsloglik, log_startprob, log_transmat)\n",
    "if np.allclose(vloglik, example['vloglik']):\n",
    "    print(\"vloglik \", u'\\u2713')\n",
    "if np.allclose(vpath, example['vpath']):\n",
    "    print(\"vpath \", u'\\u2713')"
   ]
  },
  {
   "cell_type": "code",
   "execution_count": 22,
   "metadata": {},
   "outputs": [
    {
     "name": "stdout",
     "output_type": "stream",
     "text": [
      "[1 2 2 2 3 3 3 4 4 4 4 4 4 4 4 4 4 5 5 5 5 5 5 5 5 5 5 6 6 6 6 6 6 6 6 6 6\n",
      " 6 6 6 6 6 6 6 6 6 6 7 7 7 7 7 7 7 7 7 7 7 7 7 8 9 9 9 9 9 9 9 9 9 9]\n"
     ]
    },
    {
     "data": {
      "image/png": "[encoded data removed]",
      "text/plain": [
       "<Figure size 1080x216 with 2 Axes>"
      ]
     },
     "metadata": {
      "needs_background": "light"
     },
     "output_type": "display_data"
    }
   ],
   "source": [
    "_ = plt.figure(figsize=(15,3))\n",
    "_ = plt.pcolormesh(np.ma.masked_array(alpha.T))\n",
    "_ = plt.plot(vpath+0.5, linewidth = 2)\n",
    "_ = plt.colorbar()\n",
    "_ = plt.yticks(range(1,10), verticalalignment='top')\n",
    "_ = plt.xlabel('Frames in sample')\n",
    "_ = plt.ylabel('sil-o-sil (9 states)')\n",
    "print(vpath+1)"
   ]
  },
  {
   "cell_type": "code",
   "execution_count": 23,
   "metadata": {},
   "outputs": [
    {
     "data": {
      "image/png": "[encoded data removed]",
      "text/plain": [
       "<Figure size 1080x216 with 1 Axes>"
      ]
     },
     "metadata": {
      "needs_background": "light"
     },
     "output_type": "display_data"
    }
   ],
   "source": [
    "alpha_max = np.copy(alpha.T)\n",
    "alpha_max = (alpha_max == alpha_max.max(axis = 0,keepdims = 1))\n",
    "_ = plt.figure(figsize=(15,3))\n",
    "_ = plt.pcolormesh(np.ma.masked_array(alpha_max))\n",
    "_ = plt.plot(vpath, linewidth = 2)\n",
    "_ = plt.yticks(range(1,10), verticalalignment='top')\n",
    "_ = plt.xlabel('Frames in sample')\n",
    "_ = plt.ylabel('sil-o-sil (9 states)')"
   ]
  },
  {
   "cell_type": "code",
   "execution_count": 24,
   "metadata": {},
   "outputs": [
    {
     "name": "stdout",
     "output_type": "stream",
     "text": [
      "CPU times: user 8.04 s, sys: 40 ms, total: 8.08 s\n",
      "Wall time: 8.06 s\n"
     ]
    }
   ],
   "source": [
    "%%time\n",
    "warnings.filterwarnings('ignore')\n",
    "performance = np.zeros((44,11))\n",
    "#for words in wordHMMs: print(words, end = \"\\t\")\n",
    "#print()\n",
    "no_utterance = 0\n",
    "for utterance in data:\n",
    "    no_word = 0 \n",
    "    for word in wordHMMs_all:\n",
    "        obsloglik = log_multivariate_normal_density_diag(utterance['lmfcc'], wordHMMs_all[word]['means'], wordHMMs_all[word]['covars'])  \n",
    "        log_startprob = np.log(wordHMMs_all[word]['startprob'][:-1])\n",
    "        log_transmat = np.log(wordHMMs_all[word]['transmat'][:-1,:-1])\n",
    "        vloglik, vpath = viterbi(obsloglik, log_startprob, log_transmat)\n",
    "        performance[no_utterance, no_word] = vloglik\n",
    "        #print(int(hmm_loglik), end = \"\\t\")\n",
    "        #print(no_utterance,no_word ,end = '\\t')\n",
    "        no_word += 1\n",
    "    #print()\n",
    "    no_utterance += 1\n",
    "#uncomment prints to display as tables with integer values"
   ]
  },
  {
   "cell_type": "code",
   "execution_count": 25,
   "metadata": {},
   "outputs": [
    {
     "data": {
      "image/png": "[encoded data removed]",
      "text/plain": [
       "<Figure size 1080x216 with 2 Axes>"
      ]
     },
     "metadata": {
      "needs_background": "light"
     },
     "output_type": "display_data"
    }
   ],
   "source": [
    "all_words = []\n",
    "for x in wordHMMs_all: all_words.append(x)\n",
    "all_utterance = []   \n",
    "for x in data: all_utterance.append(x['digit'])\n",
    "_ = plt.rcParams['figure.figsize'] = [15, 3]\n",
    "_ = plt.subplot(111).set_title(\"Performance of HMMs\")\n",
    "_ = plt.pcolormesh(performance.T)\n",
    "_ = plt.colorbar()\n",
    "_ = plt.ylabel('Word Models')\n",
    "_ = plt.xlabel('utterances')\n",
    "_ = plt.yticks(range(len(all_words)), all_words, verticalalignment = 'bottom')\n",
    "_ = plt.xticks(range(len(all_utterance)), all_utterance, horizontalalignment = 'left')"
   ]
  },
  {
   "cell_type": "code",
   "execution_count": 26,
   "metadata": {},
   "outputs": [
    {
     "name": "stdout",
     "output_type": "stream",
     "text": [
      "Accuracy : 100.0\n"
     ]
    },
    {
     "data": {
      "image/png": "[encoded data removed]",
      "text/plain": [
       "<Figure size 1080x216 with 1 Axes>"
      ]
     },
     "metadata": {
      "needs_background": "light"
     },
     "output_type": "display_data"
    }
   ],
   "source": [
    "performance_max = np.copy(performance.T)\n",
    "predictions_viterbi = (performance_max == performance_max.max(axis = 0,keepdims = 1))\n",
    "_ = plt.rcParams['figure.figsize'] = [15, 3]\n",
    "_ = plt.subplot(111).set_title(\"Performance of HMMs\")\n",
    "_ = plt.pcolormesh(predictions_viterbi)\n",
    "_ = plt.ylabel('Word Models')\n",
    "_ = plt.xlabel('utterances')\n",
    "_ = plt.yticks(range(len(all_words)), all_words, verticalalignment = 'bottom')\n",
    "_ = plt.xticks(range(len(all_utterance)), all_utterance, horizontalalignment = 'left')\n",
    "match = 0\n",
    "for i in range(len(all_words)):\n",
    "    for j in range(len(all_utterance)):\n",
    "        if(predictions_viterbi[i,j] == True and all_words[i] == all_utterance[j]):\n",
    "            match += 1\n",
    "print(\"Accuracy :\", 100*float(match)/predictions_viterbi.shape[1])"
   ]
  },
  {
   "cell_type": "markdown",
   "metadata": {},
   "source": [
    "###### Complexity:\n",
    "CPU times: user 7.51 s, sys: 4 ms, total: 7.52 s\n",
    "Wall time: 7.51 s\n",
    "###### Accuracy\n",
    "One Speaker - 77.27% \n",
    "All Speakers - 100%\n",
    "\n",
    "Viterbi faster than alpha pass/forward\n",
    "Accuracies are same for one speaker   \n",
    "For all speakers viterbi performs perfect   \n",
    "but alpha have some wrong predictions"
   ]
  },
  {
   "cell_type": "markdown",
   "metadata": {},
   "source": [
    "### 5.4 Backward Algorithm\n",
    "###### Probability of the next observation given a state"
   ]
  },
  {
   "cell_type": "code",
   "execution_count": 27,
   "metadata": {},
   "outputs": [],
   "source": [
    "def backward(log_emlik, log_startprob, log_transmat):\n",
    "    \"\"\"Backward (beta) probabilities in log domain.\n",
    "\n",
    "    Args:\n",
    "        log_emlik: NxM array of emission log likelihoods, N frames, M states\n",
    "        log_startprob: log probability to start in state i\n",
    "        log_transmat: transition log probability from state i to j\n",
    "\n",
    "    Output:\n",
    "        backward_prob: NxM array of backward log probabilities for each of the M states in the model\n",
    "    \"\"\"\n",
    "\n",
    "    N, M = log_emlik.shape\n",
    "    beta = np.empty((N,M))\n",
    "    beta[-1,:] = 0\n",
    "    for n in reversed(range(N-1)):\n",
    "        for i in range(M):\n",
    "            beta[n,i] = logsumexp(log_transmat[i,:] + log_emlik[n+1,:] + beta[n+1,:])\n",
    "    return beta"
   ]
  },
  {
   "cell_type": "code",
   "execution_count": 28,
   "metadata": {},
   "outputs": [
    {
     "name": "stdout",
     "output_type": "stream",
     "text": [
      "logbeta  ✓\n"
     ]
    },
    {
     "data": {
      "image/png": "[encoded data removed]",
      "text/plain": [
       "<Figure size 1080x216 with 2 Axes>"
      ]
     },
     "metadata": {
      "needs_background": "light"
     },
     "output_type": "display_data"
    }
   ],
   "source": [
    "obsloglik = log_multivariate_normal_density_diag(example['lmfcc'], wordHMMs['o']['means'], wordHMMs['o']['covars'])  \n",
    "log_startprob = np.log(wordHMMs['o']['startprob'][:-1])\n",
    "log_transmat = np.log(wordHMMs['o']['transmat'][:-1,:-1])\n",
    "beta = backward(obsloglik, log_startprob, log_transmat)\n",
    "if np.allclose(beta, example['logbeta']):\n",
    "    print(\"logbeta \", u'\\u2713')\n",
    "    _ = plt.rcParams['figure.figsize'] = [15, 3]\n",
    "_ = plt.subplot(121).set_title(\"Log Beta\")\n",
    "_ = plt.pcolormesh(beta.T)\n",
    "_ = plt.colorbar()\n",
    "_ = plt.yticks(range(1,10), verticalalignment='top')\n",
    "_ = plt.xlabel('Frames in sample')\n",
    "_ = plt.ylabel('sil-o-sil (9 states)')"
   ]
  },
  {
   "cell_type": "markdown",
   "metadata": {},
   "source": [
    "### 6 HMM Retraining (emission probability distributions)"
   ]
  },
  {
   "cell_type": "markdown",
   "metadata": {},
   "source": [
    "### 6.1 State posterior probabilities / Gamma\n",
    "\n",
    "###### Given the entire observation sequence and current estimate of the HMM, what is the probability that at time (t) the hidden state is (Xt=i)"
   ]
  },
  {
   "cell_type": "code",
   "execution_count": 29,
   "metadata": {},
   "outputs": [],
   "source": [
    "def statePosteriors(log_alpha, log_beta):\n",
    "    \"\"\"State posterior (gamma) probabilities in log domain.\n",
    "\n",
    "    Args:\n",
    "        log_alpha: NxM array of log forward (alpha) probabilities\n",
    "        log_beta: NxM array of log backward (beta) probabilities\n",
    "    where N is the number of frames, and M the number of states\n",
    "\n",
    "    Output:\n",
    "        log_gamma: NxM array of gamma probabilities for each of the M states in the model\n",
    "    \"\"\"\n",
    "    N = len(log_alpha)\n",
    "    log_gamma = log_alpha + log_beta - logsumexp(log_alpha[N - 1])\n",
    "    return log_gamma"
   ]
  },
  {
   "cell_type": "code",
   "execution_count": 30,
   "metadata": {},
   "outputs": [
    {
     "name": "stdout",
     "output_type": "stream",
     "text": [
      "[1. 1. 1. 1. 1. 1. 1. 1. 1. 1. 1. 1. 1. 1. 1. 1. 1. 1. 1. 1. 1. 1. 1. 1.\n",
      " 1. 1. 1. 1. 1. 1. 1. 1. 1. 1. 1. 1. 1. 1. 1. 1. 1. 1. 1. 1. 1. 1. 1. 1.\n",
      " 1. 1. 1. 1. 1. 1. 1. 1. 1. 1. 1. 1. 1. 1. 1. 1. 1. 1. 1. 1. 1. 1. 1.]\n",
      "gamma ✓\n",
      "Sum of gamma at each time stamp is 1\n"
     ]
    }
   ],
   "source": [
    "obsloglik = log_multivariate_normal_density_diag(example['lmfcc'], wordHMMs['o']['means'], wordHMMs['o']['covars'])  \n",
    "log_startprob = np.log(wordHMMs['o']['startprob'][:-1])\n",
    "log_transmat = np.log(wordHMMs['o']['transmat'][:-1,:-1])\n",
    "alpha = forward(obsloglik, log_startprob, log_transmat) \n",
    "gamma = statePosteriors(alpha, beta)\n",
    "print(np.sum(np.exp(gamma), axis = 1))\n",
    "print(\"gamma\" , u'\\u2713')\n",
    "print(\"Sum of gamma at each time stamp is 1\")"
   ]
  },
  {
   "cell_type": "code",
   "execution_count": 37,
   "metadata": {},
   "outputs": [
    {
     "data": {
      "image/png": "[encoded data removed]",
      "text/plain": [
       "<Figure size 1080x216 with 2 Axes>"
      ]
     },
     "metadata": {
      "needs_background": "light"
     },
     "output_type": "display_data"
    }
   ],
   "source": [
    "_ = plt.rcParams['figure.figsize'] = [15, 3]\n",
    "_ = plt.subplot(121).set_title(\"Log Gamma\")\n",
    "_ = plt.pcolormesh(gamma.T)\n",
    "_ = plt.colorbar()\n",
    "_ = plt.yticks(range(1,10), verticalalignment='top')\n",
    "_ = plt.xlabel('Frames in sample')\n",
    "_ = plt.ylabel('sil-o-sil (9 states)')"
   ]
  },
  {
   "cell_type": "code",
   "execution_count": 31,
   "metadata": {},
   "outputs": [],
   "source": [
    "def updateMeanAndVar(X, log_gamma, varianceFloor=5.0):\n",
    "    \"\"\" Update Gaussian parameters with diagonal covariance\n",
    "\n",
    "    Args:\n",
    "         X: NxD array of feature vectors\n",
    "         log_gamma: NxM state posterior probabilities in log domain\n",
    "         varianceFloor: minimum allowed variance scalar\n",
    "    were N is the lenght of the observation sequence, D is the\n",
    "    dimensionality of the feature vectors and M is the number of\n",
    "    states in the model\n",
    "\n",
    "    Outputs:\n",
    "         means: MxD mean vectors for each state\n",
    "         covars: MxD covariance (variance) vectors for each state\n",
    "    \"\"\"\n",
    "    gamma = np.exp(log_gamma)\n",
    "    means = np.zeros((log_gamma.shape[1], X.shape[1]))\n",
    "    covars = np.zeros(means.shape)\n",
    "\n",
    "    for i in range(means.shape[0]):\n",
    "        gamma_sum = np.sum(gamma[:,i])\n",
    "        means[i] = np.sum(gamma[:,i].reshape(-1, 1) * X, axis = 0) / gamma_sum\n",
    "        covars[i] = np.sum(gamma[:,i].reshape(-1, 1) * (X - means[i])**2, axis = 0) / gamma_sum\n",
    "        covars[i, covars[i] < varianceFloor] = varianceFloor\n",
    "    return (means, covars)"
   ]
  },
  {
   "cell_type": "code",
   "execution_count": 128,
   "metadata": {},
   "outputs": [
    {
     "name": "stderr",
     "output_type": "stream",
     "text": [
      "100%|██████████| 20/20 [00:02<00:00,  9.95it/s]"
     ]
    },
    {
     "name": "stdout",
     "output_type": "stream",
     "text": [
      "[-5994.049059632442]\n"
     ]
    },
    {
     "name": "stderr",
     "output_type": "stream",
     "text": [
      "\n"
     ]
    }
   ],
   "source": [
    "prev_loglik = None\n",
    "threshold = 1\n",
    "iterations = 20\n",
    "model = {}\n",
    "model = wordHMMs_all.copy() \n",
    "train_log = []\n",
    "for i in tqdm(range(iterations)):\n",
    "    obsloglik = log_multivariate_normal_density_diag(data[10]['lmfcc'], model['4']['means'], model['4']['covars'])  \n",
    "\n",
    "    log_startprob = np.log(model['4']['startprob'][:-1])\n",
    "    log_transmat = np.log(model['4']['transmat'][:-1,:-1])\n",
    "\n",
    "    #Expectation\n",
    "    alpha = forward(obsloglik, log_startprob, log_transmat) \n",
    "    beta = backward(obsloglik, log_startprob, log_transmat)\n",
    "    gamma = statePosteriors(alpha, beta)\n",
    "    hmm_loglik = logsumexp(alpha[-1]) \n",
    "    if(prev_loglik is None):\n",
    "        prev_loglik = hmm_loglik\n",
    "    elif(hmm_loglik - prev_loglik > threshold):\n",
    "         prev_loglik = hmm_loglik\n",
    "    else:\n",
    "        continue\n",
    "        #print(\"last iteration update, prev\", hmm_loglik , prev_loglik)\n",
    "        \n",
    "    #Maximization\n",
    "    model['4']['means'], model['4']['covars'] = updateMeanAndVar(data[10]['lmfcc'], gamma)\n",
    "    train_log.append(hmm_loglik)\n",
    "    \n",
    "print(train_log)"
   ]
  },
  {
   "cell_type": "markdown",
   "metadata": {},
   "source": [
    "Model -4 itself\n",
    "\n",
    "25%|██▌       | 5/20 [00:00<00:01,  9.08it/s]  \n",
    "last iteration update, prev -5994.049059632479 -5994.049059721665  \n",
    "[-6826.654332902908, -6154.595775649375, -6022.524852217402, -5998.1572849760105, -5994.049059721665]"
   ]
  },
  {
   "cell_type": "markdown",
   "metadata": {},
   "source": [
    "Model - o\n",
    "\n",
    "20%|██        | 4/20 [00:00<00:01, 13.95it/s]\n",
    "last iteration update, prev -6318.813712693775 -6318.817002586534\n",
    "[-7070.173641433824, -6451.2981231871045, -6352.529477038947, -6321.501698999799, -6318.817002586534]\n",
    "\n",
    "On model - 6\n",
    "\n",
    "25%|██▌       | 5/20 [00:00<00:01,  7.52it/s]  \n",
    "last iteration update, prev -5884.1937370000305 -5884.590499120586  \n",
    "[-7193.099605598604, -6146.134276859259, -5934.147135682102, -5890.096108797846, -5884.590499120586]  "
   ]
  }
 ],
 "metadata": {
  "kernelspec": {
   "display_name": "Python 3",
   "language": "python",
   "name": "python3"
  },
  "language_info": {
   "codemirror_mode": {
    "name": "ipython",
    "version": 2
   },
   "file_extension": ".py",
   "mimetype": "text/x-python",
   "name": "python",
   "nbconvert_exporter": "python",
   "pygments_lexer": "ipython2",
   "version": "2.7.12"
  }
 },
 "nbformat": 4,
 "nbformat_minor": 2
}
