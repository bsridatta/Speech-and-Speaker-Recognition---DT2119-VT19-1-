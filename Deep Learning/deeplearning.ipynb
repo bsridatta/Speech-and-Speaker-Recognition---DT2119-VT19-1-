{
 "cells": [
  {
   "cell_type": "markdown",
   "metadata": {},
   "source": [
    "## Speech and Speaker Recognition - DT2119 VT19-1 \n",
    "\n",
    "### Phoneme Recognition with Deep Neural Networks - Lab 3"
   ]
  },
  {
   "cell_type": "code",
   "execution_count": 20,
   "metadata": {},
   "outputs": [],
   "source": [
    "                                                                                                                                                                                                                                                                                                                                                                                                                                                                                                                                                                                                                                                                                                                                                                                                                                                                                                                                                                                                                                                                                                                                                                                                                                                                                                                                                                                                                                                                                                                                                                                                                                                                                                                                                                                                                                                                                                                                                                                                                                                                                                                                                                                                                                                                                                                                                                                                                                                                                                                                                                                                                                                                                                                                                                                                                                                                                                                                                                                                                                                                                                                                                                                                                                                                                                                                                                                                                                                                                                                                                                                                                                                                                                                                                                                                                                                                                                                                                                                                                                                                                                                                                                                                                                                                                                                                                                                                                                                                                                                                                                                                                                                                                                                                                                                                                                                                                                                                                                                                                                                                                                                                                                                                                                                                                                                                                                                                                                                                                                                                                                                                                                                                                                                                                                                                                                                                                                                                                                                                                                                                                                                                                                                                                                                                                                                                                                                                                                                                                                                                                                                                                                                                                                                                                                                                                                                                                                                                                                                                                                                                                                                                                                                                                                                                                                                                                                                                                                                                                                                                                                                                                                                                                                                                                                                                                                                                                                                                                                                                                                                                                                                                                                                                                                                                                                                                                                                                                                                                                                                                                                                                                                                                                                                                                                                                                                                                                                                                                                                                                                                                                                                                                                                                                                                                                                                                                                                                                                                                                                                                                                                                                                                                                                                                                                                                                                                                                                                                                                                                                                                                                                                                                                                                                                                                                                                                                                                                                                                                                                                                                                                                                                                                                                                                                                                                                                                                                                                                                                                                                                                                                                                                                                                                                                                                                                                                                                                                                                                                                                                                                                                                                                                                                                                                                                                                                                                                                                                                                                                                                                                                                                                                                                                                                                                                                                        from __future__ import print_function\n",
    "import soundfile as sf                                                                                                                                                                                                                                                                                                                                                                                                                                                                                                                                                                                                \n",
    "import numpy as np\n",
    "import math\n",
    "from sklearn.preprocessing import StandardScaler\n",
    "\n",
    "\n",
    "from lab3_tools import *\n",
    "from lab3_proto import *\n",
    "from prondict import prondict\n",
    "\n",
    "from matplotlib import pyplot as plt\n",
    "import seaborn as sns\n",
    "import matplotlib.image as mpimg\n",
    "%matplotlib inline\n",
    "\n",
    "import pprint\n",
    "import os\n",
    "import pickle\n",
    "import warnings\n",
    "from IPython.display import Image\n",
    "from tqdm import tqdm_notebook as tqdm\n",
    "\n",
    "from keras.utils import np_utils\n",
    "from keras.models import Sequential\n",
    "from keras.layers import Dense, Activation\n",
    "\n",
    "from livelossplot.keras import PlotLossesCallback\n",
    "from livelossplot import PlotLossesKeras\n",
    "\n",
    "from sklearn.metrics import confusion_matrix\n",
    "\n"
   ]
  },
  {
   "cell_type": "code",
   "execution_count": 21,
   "metadata": {},
   "outputs": [],
   "source": [
    "%%capture\n",
    "import Feature_Extraction as FE\n",
    "import hmm as hmm"
   ]
  },
  {
   "cell_type": "markdown",
   "metadata": {},
   "source": [
    "### 3 Data "
   ]
  },
  {
   "cell_type": "code",
   "execution_count": 22,
   "metadata": {
    "scrolled": true
   },
   "outputs": [
    {
     "data": {
      "text/plain": [
       "('man', 'ae', 'z9z6531', 'a')"
      ]
     },
     "execution_count": 22,
     "metadata": {},
     "output_type": "execute_result"
    }
   ],
   "source": [
    "path2info('tidigits/disc_4.1.1/tidigits/train/man/ae/z9z6531a.wav')"
   ]
  },
  {
   "cell_type": "code",
   "execution_count": 23,
   "metadata": {},
   "outputs": [
    {
     "data": {
      "text/plain": [
       "(array([11, 13, 11, ...,  9,  9,  9], dtype=int16), 20000)"
      ]
     },
     "execution_count": 23,
     "metadata": {},
     "output_type": "execute_result"
    }
   ],
   "source": [
    "loadAudio('../tidigits/disc_4.1.1/tidigits/train/man/ae/z9z6531a.wav')"
   ]
  },
  {
   "cell_type": "markdown",
   "metadata": {},
   "source": [
    "### 4.1 Target Class Defination"
   ]
  },
  {
   "cell_type": "code",
   "execution_count": 24,
   "metadata": {},
   "outputs": [
    {
     "name": "stdout",
     "output_type": "stream",
     "text": [
      "['ah_0', 'ah_1', 'ah_2', 'ao_0', 'ao_1', 'ao_2', 'ay_0', 'ay_1', 'ay_2', 'eh_0',\n",
      " 'eh_1', 'eh_2', 'ey_0', 'ey_1', 'ey_2', 'f_0', 'f_1', 'f_2', 'ih_0', 'ih_1',\n",
      " 'ih_2', 'iy_0', 'iy_1', 'iy_2', 'k_0', 'k_1', 'k_2', 'n_0', 'n_1', 'n_2',\n",
      " 'ow_0', 'ow_1', 'ow_2', 'r_0', 'r_1', 'r_2', 's_0', 's_1', 's_2', 'sil_0',\n",
      " 'sil_1', 'sil_2', 'sp_0', 't_0', 't_1', 't_2', 'th_0', 'th_1', 'th_2', 'uw_0',\n",
      " 'uw_1', 'uw_2', 'v_0', 'v_1', 'v_2', 'w_0', 'w_1', 'w_2', 'z_0', 'z_1', 'z_2']\n"
     ]
    }
   ],
   "source": [
    "phoneHMMs = np.load('../HMM/lab2_models_all.npz')['phoneHMMs'].item()\n",
    "phones = sorted(phoneHMMs.keys())\n",
    "nstates = {phone:  phoneHMMs[phone]['means'].shape[0] for phone in phones}\n",
    "stateList = [ph + '_' + str(id) for ph in phones for id in range(nstates[ph])]\n",
    "pprint.pprint(stateList, compact=True)\n",
    "\n",
    "# with open('stateList', 'wb') as fp:\n",
    "#     pickle.dump(stateList, fp)\n",
    "\n",
    "with open('stateList.txt', 'w') as f:\n",
    "    for state in stateList:\n",
    "        _ = f.write(\"%s\\n\" % state)"
   ]
  },
  {
   "cell_type": "code",
   "execution_count": 25,
   "metadata": {},
   "outputs": [
    {
     "name": "stdout",
     "output_type": "stream",
     "text": [
      "['ah', 'ao', 'ay', 'eh', 'ey', 'f', 'ih', 'iy', 'k', 'n', 'ow', 'r', 's', 'sil', 'sp', 't', 'th', 'uw', 'v', 'w', 'z']\n"
     ]
    }
   ],
   "source": [
    "phones = sorted(phoneHMMs.keys())\n",
    "print(phones)"
   ]
  },
  {
   "cell_type": "code",
   "execution_count": 26,
   "metadata": {},
   "outputs": [
    {
     "name": "stdout",
     "output_type": "stream",
     "text": [
      "['ah_0', 'ah_1', 'ah_2', 'ao_0', 'ao_1', 'ao_2', 'ay_0', 'ay_1', 'ay_2', 'eh_0', 'eh_1', 'eh_2', 'ey_0', 'ey_1', 'ey_2', 'f_0', 'f_1', 'f_2', 'ih_0', 'ih_1', 'ih_2', 'iy_0', 'iy_1', 'iy_2', 'k_0', 'k_1', 'k_2', 'n_0', 'n_1', 'n_2', 'ow_0', 'ow_1', 'ow_2', 'r_0', 'r_1', 'r_2', 's_0', 's_1', 's_2', 'sil_0', 'sil_1', 'sil_2', 'sp_0', 't_0', 't_1', 't_2', 'th_0', 'th_1', 'th_2', 'uw_0', 'uw_1', 'uw_2', 'v_0', 'v_1', 'v_2', 'w_0', 'w_1', 'w_2', 'z_0', 'z_1', 'z_2']\n",
      "61\n"
     ]
    }
   ],
   "source": [
    "lineList = list()\n",
    "with open('stateList.txt') as f:\n",
    "    for line in f:\n",
    "        lineList.append(line.strip('\\n'))\n",
    "print(lineList)\n",
    "print(len(lineList))"
   ]
  },
  {
   "cell_type": "code",
   "execution_count": 27,
   "metadata": {},
   "outputs": [
    {
     "data": {
      "text/plain": [
       "8"
      ]
     },
     "execution_count": 27,
     "metadata": {},
     "output_type": "execute_result"
    }
   ],
   "source": [
    "stateList.index('ay_2')"
   ]
  },
  {
   "cell_type": "markdown",
   "metadata": {},
   "source": [
    "### 4.2 Forced Alignment"
   ]
  },
  {
   "cell_type": "code",
   "execution_count": 28,
   "metadata": {},
   "outputs": [
    {
     "name": "stdout",
     "output_type": "stream",
     "text": [
      "(178, 13)\n"
     ]
    }
   ],
   "source": [
    "#file path actually\n",
    "filename = '../tidigits/disc_4.1.1/tidigits/train/man/nw/z43a.wav'\n",
    "samples, samplingrate = loadAudio(filename)\n",
    "lmfcc = FE.mfccFn(samples)\n",
    "print(lmfcc.shape)"
   ]
  },
  {
   "cell_type": "code",
   "execution_count": 29,
   "metadata": {},
   "outputs": [
    {
     "name": "stdout",
     "output_type": "stream",
     "text": [
      "['z', '4', '3']\n"
     ]
    }
   ],
   "source": [
    "wordTrans = list(path2info(filename)[2])\n",
    "print(wordTrans)"
   ]
  },
  {
   "cell_type": "code",
   "execution_count": 30,
   "metadata": {},
   "outputs": [],
   "source": [
    "def words2phones(wordList, pronDict, addSilence=True, addShortPause=True):\n",
    "    \"\"\" word2phones: converts word level to phone level transcription adding silence\n",
    "\n",
    "    Args:\n",
    "       wordList: list of word symbols\n",
    "       pronDict: pronunciation dictionary. The keys correspond to words in wordList\n",
    "       addSilence: if True, add initial and final silence\n",
    "       addShortPause: if True, add short pause model \"sp\" at end of each word\n",
    "    Output:\n",
    "       list of phone symbols\n",
    "    \"\"\"\n",
    "    phoneTrans = []\n",
    "    \n",
    "    if(addSilence):\n",
    "        phoneTrans.append('sil')\n",
    "    \n",
    "    for word in wordList:\n",
    "        phones = pronDict[word]\n",
    "        for phone in phones:\n",
    "            phoneTrans.append(phone)\n",
    "        if(addSilence):\n",
    "            phoneTrans.append('sp')\n",
    "      \n",
    "    if(addSilence):\n",
    "        phoneTrans.append('sil')\n",
    "    \n",
    "    return phoneTrans"
   ]
  },
  {
   "cell_type": "code",
   "execution_count": 31,
   "metadata": {},
   "outputs": [
    {
     "name": "stdout",
     "output_type": "stream",
     "text": [
      "['sil', 'z', 'iy', 'r', 'ow', 'sp', 'f', 'ao', 'r', 'sp', 'th', 'r', 'iy', 'sp', 'sil']\n"
     ]
    }
   ],
   "source": [
    "phoneTrans = words2phones(wordTrans, prondict)\n",
    "print(phoneTrans)"
   ]
  },
  {
   "cell_type": "code",
   "execution_count": 32,
   "metadata": {},
   "outputs": [],
   "source": [
    "utteranceHMM = hmm.concatHMMs(phoneHMMs, phoneTrans)"
   ]
  },
  {
   "cell_type": "code",
   "execution_count": 33,
   "metadata": {},
   "outputs": [
    {
     "name": "stdout",
     "output_type": "stream",
     "text": [
      "['sil_0', 'sil_1', 'sil_2', 'z_0', 'z_1', 'z_2', 'iy_0', 'iy_1', 'iy_2', 'r_0',\n",
      " 'r_1', 'r_2', 'ow_0', 'ow_1', 'ow_2', 'sp_0', 'f_0', 'f_1', 'f_2', 'ao_0',\n",
      " 'ao_1', 'ao_2', 'r_0', 'r_1', 'r_2', 'sp_0', 'th_0', 'th_1', 'th_2', 'r_0',\n",
      " 'r_1', 'r_2', 'iy_0', 'iy_1', 'iy_2', 'sp_0', 'sil_0', 'sil_1', 'sil_2']\n",
      "\n",
      " r_1\n"
     ]
    }
   ],
   "source": [
    "stateTrans = [phone + \"_\" + str(stateid) for phone in phoneTrans\n",
    "             for stateid in range(nstates[phone])]\n",
    "pprint.pprint(stateTrans, compact=True)\n",
    "print(\"\\n\", stateTrans[10])"
   ]
  },
  {
   "cell_type": "code",
   "execution_count": 34,
   "metadata": {},
   "outputs": [],
   "source": [
    "def forcedAlignment(lmfcc, phoneHMMs, phoneTrans):\n",
    "    \"\"\" forcedAlignmen: aligns a phonetic transcription at the state level\n",
    "\n",
    "    Args:\n",
    "       lmfcc: NxD array of MFCC feature vectors (N vectors of dimension D)\n",
    "              computed the same way as for the training of phoneHMMs\n",
    "       phoneHMMs: set of phonetic Gaussian HMM models\n",
    "       phoneTrans: list of phonetic symbols to be aligned including initial and\n",
    "                   final silence\n",
    "\n",
    "    Returns:\n",
    "       list of strings in the form phoneme_index specifying, for each time step\n",
    "       the state from phoneHMMs corresponding to the viterbi path.\n",
    "    \"\"\"\n",
    "    utteranceHMM = hmm.concatHMMs(phoneHMMs, phoneTrans)\n",
    "    obsloglik = hmm.log_multivariate_normal_density_diag(lmfcc, utteranceHMM['means'], utteranceHMM['covars'])  \n",
    "    log_startprob = np.log(utteranceHMM['startprob'][:-1])\n",
    "    log_transmat = np.log(utteranceHMM['transmat'][:-1,:-1])\n",
    "    alpha = hmm.forward(obsloglik, log_startprob, log_transmat) \n",
    "    vloglik, vpath = hmm.viterbi(obsloglik, log_startprob, log_transmat)\n",
    "    \n",
    "    phones = sorted(phoneHMMs.keys())\n",
    "    nstates = {phone:  phoneHMMs[phone]['means'].shape[0] for phone in phones}\n",
    "    stateTrans = [ph + '_' + str(id) for ph in phoneTrans for id in range(nstates[ph])]\n",
    "    \n",
    "#     stateList = list()\n",
    "#     with open('stateList.txt') as f:\n",
    "#         for line in f:\n",
    "#             stateList.append(line.strip('\\n'))\n",
    "    \n",
    "    stateTransIdx = [stateList.index(state) for state in stateTrans]\n",
    "    viterbiStateTrans = [stateTrans[i] for i in vpath]\n",
    "    transcription = frames2trans(viterbiStateTrans, outfilename = \"z43a.lab\")\n",
    "\n",
    "    return viterbiStateTrans"
   ]
  },
  {
   "cell_type": "code",
   "execution_count": 35,
   "metadata": {},
   "outputs": [
    {
     "name": "stderr",
     "output_type": "stream",
     "text": [
      "/usr/local/lib/python3.5/dist-packages/ipykernel_launcher.py:17: RuntimeWarning: divide by zero encountered in log\n",
      "/usr/local/lib/python3.5/dist-packages/ipykernel_launcher.py:18: RuntimeWarning: divide by zero encountered in log\n"
     ]
    },
    {
     "name": "stdout",
     "output_type": "stream",
     "text": [
      "['sil_0', 'sil_1', 'sil_1', 'sil_1', 'sil_1', 'sil_1', 'sil_1', 'sil_1',\n",
      " 'sil_1', 'sil_1', 'sil_1', 'sil_1', 'sil_1', 'sil_1', 'sil_1', 'sil_1',\n",
      " 'sil_1', 'sil_1', 'sil_1', 'sil_2', 'z_0', 'z_0', 'z_0', 'z_0', 'z_1', 'z_2',\n",
      " 'z_2', 'z_2', 'z_2', 'z_2', 'z_2', 'z_2', 'z_2', 'z_2', 'z_2', 'z_2', 'iy_0',\n",
      " 'iy_0', 'iy_0', 'iy_0', 'iy_0', 'iy_0', 'iy_0', 'iy_0', 'iy_1', 'iy_2', 'r_0',\n",
      " 'r_0', 'r_0', 'r_0', 'r_0', 'r_0', 'r_0', 'r_0', 'r_0', 'r_0', 'r_1', 'r_2',\n",
      " 'ow_0', 'ow_1', 'ow_2', 'ow_2', 'ow_2', 'ow_2', 'ow_2', 'ow_2', 'ow_2', 'ow_2',\n",
      " 'ow_2', 'f_0', 'f_1', 'f_1', 'f_1', 'f_1', 'f_1', 'f_1', 'f_1', 'f_1', 'f_1',\n",
      " 'f_1', 'f_1', 'f_2', 'ao_0', 'ao_1', 'ao_1', 'ao_1', 'ao_1', 'ao_1', 'ao_1',\n",
      " 'ao_1', 'ao_1', 'ao_1', 'ao_1', 'ao_1', 'ao_1', 'ao_1', 'ao_1', 'ao_2', 'ao_2',\n",
      " 'ao_2', 'ao_2', 'ao_2', 'ao_2', 'ao_2', 'ao_2', 'ao_2', 'ao_2', 'ao_2', 'r_0',\n",
      " 'r_0', 'r_0', 'r_1', 'r_2', 'th_0', 'th_0', 'th_0', 'th_0', 'th_0', 'th_0',\n",
      " 'th_0', 'th_0', 'th_0', 'th_0', 'th_1', 'th_1', 'th_1', 'th_2', 'r_0', 'r_0',\n",
      " 'r_0', 'r_0', 'r_0', 'r_0', 'r_0', 'r_0', 'r_0', 'r_1', 'r_2', 'iy_0', 'iy_0',\n",
      " 'iy_0', 'iy_0', 'iy_0', 'iy_0', 'iy_0', 'iy_0', 'iy_0', 'iy_0', 'iy_1', 'iy_1',\n",
      " 'iy_2', 'iy_2', 'iy_2', 'iy_2', 'iy_2', 'iy_2', 'iy_2', 'iy_2', 'sil_0',\n",
      " 'sil_0', 'sil_0', 'sil_0', 'sil_0', 'sil_0', 'sil_0', 'sil_0', 'sil_0',\n",
      " 'sil_0', 'sil_0', 'sil_0', 'sil_0', 'sil_0', 'sil_0', 'sil_0', 'sil_0',\n",
      " 'sil_0', 'sil_0', 'sil_0']\n"
     ]
    }
   ],
   "source": [
    "alignedPhonemes = forcedAlignment(lmfcc, phoneHMMs, phoneTrans)\n",
    "pprint.pprint(alignedPhonemes, compact=True)"
   ]
  },
  {
   "cell_type": "code",
   "execution_count": 36,
   "metadata": {},
   "outputs": [
    {
     "data": {
      "image/png": "[encoded data removed]",
      "text/plain": [
       "<IPython.core.display.Image object>"
      ]
     },
     "execution_count": 36,
     "metadata": {},
     "output_type": "execute_result"
    }
   ],
   "source": [
    "Image('wavesurfer.png')"
   ]
  },
  {
   "cell_type": "markdown",
   "metadata": {},
   "source": [
    "### 4.3 Feature Extraction"
   ]
  },
  {
   "cell_type": "code",
   "execution_count": 37,
   "metadata": {},
   "outputs": [],
   "source": [
    "def prepare_features(datapath, stateListPath, saveName):\n",
    "    traindata = []\n",
    "    stateList = list()\n",
    "    with open(stateListPath) as f:\n",
    "        for line in f:\n",
    "            stateList.append(line.strip('\\n'))\n",
    "\n",
    "    totalfiles = 0\n",
    "    for root, dirs, files in os.walk(datapath):\n",
    "        for file in files:\n",
    "            if file.endswith('.wav'):\n",
    "                totalfiles += 1\n",
    "\n",
    "    pbar = tqdm(total=totalfiles)\n",
    "    for root, dirs, files in os.walk(datapath):\n",
    "        for file in files:\n",
    "            if file.endswith('.wav'):\n",
    "                filename = os.path.join(root, file)\n",
    "                samples, samplingrate = loadAudio(filename)\n",
    "                lmfcc = FE.mfccFn(samples)\n",
    "                mspec = FE.mspecFn(samples)            \n",
    "                wordTrans = list(path2info(filename)[2])\n",
    "                phoneTrans = words2phones(wordTrans, prondict, addShortPause=False)\n",
    "                targets = forcedAlignment(lmfcc, phoneHMMs, phoneTrans)\n",
    "                targetsIdx =  np.array([stateList.index(target) for target in targets])\n",
    "\n",
    "                traindata.append({'filename': filename,\n",
    "                                 'lmfcc': lmfcc,\n",
    "                                 'mspec': mspec,\n",
    "                                 'targets':targetsIdx})\n",
    "                pbar.update(1)\n",
    "                pbar.refresh()\n",
    "    pbar.close()\n",
    "    #Never terminates for some reason and gets struck when there is a file of same name\n",
    "    print(\"saving npz...please wait!\")\n",
    "    np.savez(saveName, traindata=traindata)\n",
    "    return traindata"
   ]
  },
  {
   "cell_type": "code",
   "execution_count": 38,
   "metadata": {},
   "outputs": [
    {
     "name": "stdout",
     "output_type": "stream",
     "text": [
      "Do you really want to do this?\n",
      "nope\n"
     ]
    }
   ],
   "source": [
    "print(\"Do you really want to do this?\")\n",
    "a = input()\n",
    "if(a == 'yes'):\n",
    "    traindata = prepare_features('../tidigits/disc_4.1.1/tidigits/train', 'stateList.txt', 'traindata.npz')"
   ]
  },
  {
   "cell_type": "markdown",
   "metadata": {},
   "source": [
    "### 4.4 Training and Validation Sets"
   ]
  },
  {
   "cell_type": "code",
   "execution_count": 39,
   "metadata": {},
   "outputs": [
    {
     "name": "stdout",
     "output_type": "stream",
     "text": [
      "Training Data :  89.2844717615679\n",
      "Validation Data : 10.7155282384321\n"
     ]
    }
   ],
   "source": [
    "traindata = np.load('traindata.npz')\n",
    "traindata = dict(zip((\"{}\".format(k) for k in traindata), (traindata[k] for k in traindata)))\n",
    "\n",
    "male_speakers = np.unique([traindata['traindata'][i][\"filename\"].split('/')[6] \n",
    "                      for i in range(len(traindata['traindata'])) \n",
    "                      if traindata['traindata'][i][\"filename\"].split('/')[5] == 'man'])\n",
    "female_speakers = np.unique([traindata['traindata'][i][\"filename\"].split('/')[6] \n",
    "                      for i in range(len(traindata['traindata'])) \n",
    "                      if traindata['traindata'][i][\"filename\"].split('/')[5] == 'woman'])\n",
    "\n",
    "\n",
    "m_train_speakers = male_speakers[0:math.floor(len(male_speakers)*0.9)]\n",
    "m_valid_speakers = male_speakers[math.floor(len(male_speakers)*0.9):]\n",
    "\n",
    "m_train_data =  [traindata['traindata'][i] for i in range(len(traindata['traindata'])) \n",
    "                  if traindata['traindata'][i][\"filename\"].split('/')[6] in m_train_speakers]\n",
    "\n",
    "m_valid_data =  [traindata['traindata'][i] for i in range(len(traindata['traindata'])) \n",
    "                  if traindata['traindata'][i][\"filename\"].split('/')[6] in m_valid_speakers]\n",
    "\n",
    "w_train_speakers = female_speakers[0:math.floor(len(female_speakers)*0.9)]\n",
    "w_valid_speakers = female_speakers[math.floor(len(female_speakers)*0.9):]\n",
    "\n",
    "w_train_data =  [traindata['traindata'][i] for i in range(len(traindata['traindata'])) \n",
    "                  if traindata['traindata'][i][\"filename\"].split('/')[6] in w_train_speakers]\n",
    "\n",
    "w_valid_data =  [traindata['traindata'][i] for i in range(len(traindata['traindata'])) \n",
    "                  if traindata['traindata'][i][\"filename\"].split('/')[6] in w_valid_speakers]\n",
    "\n",
    "training_data = m_train_data + w_train_data\n",
    "validation_data = m_valid_data + w_valid_data\n",
    "\n",
    "print(\"Training Data : \", len(training_data)/len(traindata['traindata'])*100)\n",
    "print(\"Validation Data :\", len(validation_data)/len(traindata['traindata'])*100)"
   ]
  },
  {
   "cell_type": "markdown",
   "metadata": {},
   "source": [
    "### 4.5 Acoustic Context (Dynamic Features)"
   ]
  },
  {
   "cell_type": "code",
   "execution_count": 40,
   "metadata": {
    "code_folding": []
   },
   "outputs": [],
   "source": [
    "def dynamize_features(data, feature_type):\n",
    "    for sample in tqdm(data):\n",
    "        dynamic_features = []\n",
    "        max_idx = len(sample[feature_type]) - 1\n",
    "        for idx, feature in enumerate(sample[feature_type]):\n",
    "            dynamic_feature = np.zeros((7, feature.shape[0]))\n",
    "\n",
    "            dynamic_feature[0] = sample[feature_type][np.abs(idx - 3)]\n",
    "            dynamic_feature[1] = sample[feature_type][np.abs(idx - 2)]\n",
    "            dynamic_feature[2] = sample[feature_type][np.abs(idx - 1)]\n",
    "            dynamic_feature[3] = sample[feature_type][idx]\n",
    "            dynamic_feature[4] = sample[feature_type][max_idx - np.abs(max_idx - (idx + 1))]\n",
    "            dynamic_feature[5] = sample[feature_type][max_idx - np.abs(max_idx - (idx + 2))]\n",
    "            dynamic_feature[6] = sample[feature_type][max_idx - np.abs(max_idx - (idx + 3))]\n",
    "            dynamic_features.append(dynamic_feature)\n",
    "        sample['dynamic_'+feature_type] = np.array(dynamic_features)\n",
    "    return data"
   ]
  },
  {
   "cell_type": "code",
   "execution_count": 42,
   "metadata": {},
   "outputs": [
    {
     "data": {
      "application/vnd.jupyter.widget-view+json": {
       "model_id": "f6013ce8bc244c68b4cdf99556825116",
       "version_major": 2,
       "version_minor": 0
      },
      "text/plain": [
       "HBox(children=(IntProgress(value=0, max=10), HTML(value='')))"
      ]
     },
     "metadata": {},
     "output_type": "display_data"
    },
    {
     "name": "stdout",
     "output_type": "stream",
     "text": [
      "\n"
     ]
    },
    {
     "data": {
      "application/vnd.jupyter.widget-view+json": {
       "model_id": "3c8556f0e04d4203b3621a6a00d3a3e0",
       "version_major": 2,
       "version_minor": 0
      },
      "text/plain": [
       "HBox(children=(IntProgress(value=0, max=10), HTML(value='')))"
      ]
     },
     "metadata": {},
     "output_type": "display_data"
    },
    {
     "name": "stdout",
     "output_type": "stream",
     "text": [
      "\n"
     ]
    },
    {
     "data": {
      "application/vnd.jupyter.widget-view+json": {
       "model_id": "6a1097972d9a434ebf1db7ce4ff56b1d",
       "version_major": 2,
       "version_minor": 0
      },
      "text/plain": [
       "HBox(children=(IntProgress(value=0, max=10), HTML(value='')))"
      ]
     },
     "metadata": {},
     "output_type": "display_data"
    },
    {
     "name": "stdout",
     "output_type": "stream",
     "text": [
      "\n"
     ]
    },
    {
     "data": {
      "application/vnd.jupyter.widget-view+json": {
       "model_id": "a9c5a6512cff4debb75833dd01e9cd9a",
       "version_major": 2,
       "version_minor": 0
      },
      "text/plain": [
       "HBox(children=(IntProgress(value=0, max=10), HTML(value='')))"
      ]
     },
     "metadata": {},
     "output_type": "display_data"
    },
    {
     "name": "stdout",
     "output_type": "stream",
     "text": [
      "\n",
      "Original Features  (258, 13)\n",
      "Dynamic Features  (258, 7, 13)\n"
     ]
    }
   ],
   "source": [
    "training_data = dynamize_features(training_data[0:10], 'lmfcc')\n",
    "training_data = dynamize_features(training_data[0:10], 'mspec')\n",
    "validation_data = dynamize_features(validation_data[0:10], 'lmfcc')\n",
    "validation_data = dynamize_features(validation_data[0:10], 'mspec')\n",
    "print(\"Original Features \", training_data[0][\"lmfcc\"].shape)\n",
    "print(\"Dynamic Features \", training_data[0]['dynamic_lmfcc'].shape)"
   ]
  },
  {
   "cell_type": "code",
   "execution_count": 22,
   "metadata": {},
   "outputs": [
    {
     "name": "stdout",
     "output_type": "stream",
     "text": [
      "Really!!?\n",
      "no\n"
     ]
    }
   ],
   "source": [
    "print(\"Really!!?\")\n",
    "a = input()\n",
    "if (a == 'yes'):\n",
    "    testdata = np.load('testdata.npz')\n",
    "    testdata = dict(zip((\"{}\".format(k) for k in tqdm(testdata)), (testdata[k] for k in testdata)))\n",
    "    testdata = [testdata[\"traindata\"][x] for x in tqdm(range(len(testdata[\"traindata\"])))]\n",
    "    print(\"1\")\n",
    "    testing_data = dynamize_features(testdata, 'lmfcc')\n",
    "    testing_data = dynamize_features(testdata, 'mspec')\n",
    "    print(\"2\")\n",
    "    np.savez(\"dynamic_test_data\", testing_data=testing_data)"
   ]
  },
  {
   "cell_type": "code",
   "execution_count": 43,
   "metadata": {},
   "outputs": [
    {
     "name": "stdout",
     "output_type": "stream",
     "text": [
      "Time steps, Features (258, 13)\n"
     ]
    },
    {
     "data": {
      "image/png": "[encoded data removed]",
      "text/plain": [
       "<Figure size 1080x432 with 1 Axes>"
      ]
     },
     "metadata": {
      "needs_background": "light"
     },
     "output_type": "display_data"
    }
   ],
   "source": [
    "lmfcc = training_data[0]['lmfcc']\n",
    "_ = plt.rcParams['figure.figsize'] = [15, 6]\n",
    "_ = plt.subplot(221).set_title(\"LMFCC\")\n",
    "_ = plt.pcolormesh(lmfcc)\n",
    "print(\"Time steps, Features\", lmfcc.shape)"
   ]
  },
  {
   "cell_type": "markdown",
   "metadata": {},
   "source": [
    "#### checking out the shapes after dynamic features generation"
   ]
  },
  {
   "cell_type": "code",
   "execution_count": 46,
   "metadata": {},
   "outputs": [
    {
     "name": "stdout",
     "output_type": "stream",
     "text": [
      "10\n",
      "10\n",
      "(258, 7, 13)\n",
      "(258, 7, 40)\n"
     ]
    }
   ],
   "source": [
    "print(len(training_data))\n",
    "print(len(validation_data))\n",
    "\n",
    "lmfcc = training_data[0]['dynamic_lmfcc']\n",
    "print(lmfcc.shape)\n",
    "\n",
    "mspec = training_data[0]['dynamic_mspec']\n",
    "print(mspec.shape)\n",
    "# mspec_val = validation_data[0]['dynamic_mspec']\n",
    "# print(mspec_val.shape)"
   ]
  },
  {
   "cell_type": "markdown",
   "metadata": {},
   "source": [
    "### 4.6 Feature Standardisation"
   ]
  },
  {
   "cell_type": "markdown",
   "metadata": {},
   "source": [
    "#### Additionally, Extract features and flatten the data for Neural Network"
   ]
  },
  {
   "cell_type": "code",
   "execution_count": 47,
   "metadata": {},
   "outputs": [],
   "source": [
    "def get_train_val(training_data, validation_data, feature_type):\n",
    "    \n",
    "    train_x = [training_data[x][feature_type] for x in tqdm(range(len(training_data)))]\n",
    "    val_x = [validation_data[x][feature_type] for x in tqdm(range(len(validation_data)))]\n",
    "    \n",
    "    train_y = np.asarray([training_data[x]['targets'] for x in tqdm(range(len(training_data)))])\n",
    "    val_y = np.asarray([validation_data[x]['targets'] for x in tqdm(range(len(validation_data)))])\n",
    "    print(\"Performing Train Flattening ...\")\n",
    "    \n",
    "    train_x = np.concatenate(train_x, axis = 0)\n",
    "    if len(train_x.shape) > 2:\n",
    "        train_x = np.reshape(train_x,(train_x.shape[0], train_x.shape[1]*train_x.shape[2]))\n",
    "    print(\"Performing Val Flattening ...\")\n",
    "    val_x = np.concatenate(val_x, axis = 0)\n",
    "    if len(val_x.shape) > 2:\n",
    "        val_x = np.reshape(val_x,(val_x.shape[0], val_x.shape[1]*val_x.shape[2]))\n",
    "    print(\"Performing Ground Truth Flattening ...\")\n",
    "    train_y = np.concatenate(train_y, axis = 0)\n",
    "    train_y = np.reshape(train_y,(train_y.shape[0],1))\n",
    "\n",
    "    val_y = np.concatenate(val_y, axis = 0)\n",
    "    val_y = np.reshape(val_y,(val_y.shape[0],1))\n",
    "    \n",
    "    \n",
    "    #this case we are using only lmfcc replace lmfcc with mspec if needed\n",
    "    #TODO should do this for test as aswell ..using the same scaler\n",
    "    print(\"Performing Standardization ...\")\n",
    "\n",
    "    scaler = StandardScaler()\n",
    "    scaler = scaler.fit(train_x)\n",
    "\n",
    "    train_x = scaler.transform(train_x)\n",
    "    val_x = scaler.transform(val_x)\n",
    "\n",
    "    train_x = train_x.astype('float32')\n",
    "    val_x = val_x.astype('float32')\n",
    "\n",
    "    stateList = list()\n",
    "    with open('stateList.txt') as f:\n",
    "        for line in f:\n",
    "            stateList.append(line.strip('\\n'))\n",
    "    output_dim = len(stateList)\n",
    "\n",
    "    print(\"Performing Categorisation  ...\")\n",
    "    #Categorial format of ground truth\n",
    "    train_y = np_utils.to_categorical(train_y, output_dim)\n",
    "    val_y = np_utils.to_categorical(val_y, output_dim)\n",
    "    print(\"Done !!!\")\n",
    "    #scaler to repeat for test\n",
    "    return train_x, train_y, val_x, val_y, scaler"
   ]
  },
  {
   "cell_type": "code",
   "execution_count": 48,
   "metadata": {},
   "outputs": [
    {
     "data": {
      "application/vnd.jupyter.widget-view+json": {
       "model_id": "1d6b01d4a5e848d98373be28e4c3e7e2",
       "version_major": 2,
       "version_minor": 0
      },
      "text/plain": [
       "HBox(children=(IntProgress(value=0, max=10), HTML(value='')))"
      ]
     },
     "metadata": {},
     "output_type": "display_data"
    },
    {
     "name": "stdout",
     "output_type": "stream",
     "text": [
      "\n"
     ]
    },
    {
     "data": {
      "application/vnd.jupyter.widget-view+json": {
       "model_id": "5049cee2a32c4e0f85b398df5344bbff",
       "version_major": 2,
       "version_minor": 0
      },
      "text/plain": [
       "HBox(children=(IntProgress(value=0, max=10), HTML(value='')))"
      ]
     },
     "metadata": {},
     "output_type": "display_data"
    },
    {
     "name": "stdout",
     "output_type": "stream",
     "text": [
      "\n"
     ]
    },
    {
     "data": {
      "application/vnd.jupyter.widget-view+json": {
       "model_id": "ed10117c5f4f4ba1a9049fd623d37107",
       "version_major": 2,
       "version_minor": 0
      },
      "text/plain": [
       "HBox(children=(IntProgress(value=0, max=10), HTML(value='')))"
      ]
     },
     "metadata": {},
     "output_type": "display_data"
    },
    {
     "name": "stdout",
     "output_type": "stream",
     "text": [
      "\n"
     ]
    },
    {
     "data": {
      "application/vnd.jupyter.widget-view+json": {
       "model_id": "99e5431ae92040aba186ae1d28afc36f",
       "version_major": 2,
       "version_minor": 0
      },
      "text/plain": [
       "HBox(children=(IntProgress(value=0, max=10), HTML(value='')))"
      ]
     },
     "metadata": {},
     "output_type": "display_data"
    },
    {
     "name": "stdout",
     "output_type": "stream",
     "text": [
      "\n",
      "Performing Train Flattening ...\n",
      "Performing Val Flattening ...\n",
      "Performing Ground Truth Flattening ...\n",
      "Performing Standardization ...\n",
      "Performing Categorisation  ...\n",
      "Done !!!\n"
     ]
    }
   ],
   "source": [
    "train_x, train_y, validation_x, validation_y, scaler = get_train_val(training_data[0:12], validation_data[0:12], 'dynamic_mspec')"
   ]
  },
  {
   "cell_type": "code",
   "execution_count": 49,
   "metadata": {},
   "outputs": [
    {
     "name": "stdout",
     "output_type": "stream",
     "text": [
      "(2066, 280)\n",
      "(2066, 61)\n",
      "(1756, 280)\n",
      "(1756, 61)\n",
      "(280,)\n",
      "(61,)\n"
     ]
    }
   ],
   "source": [
    "print(train_x.shape)\n",
    "print(train_y.shape)\n",
    "\n",
    "print(validation_x.shape)\n",
    "print(validation_y.shape)\n",
    "\n",
    "print(train_x[0].shape)\n",
    "print(train_y[0].shape)"
   ]
  },
  {
   "cell_type": "markdown",
   "metadata": {},
   "source": [
    "### Final data samples for training"
   ]
  },
  {
   "cell_type": "code",
   "execution_count": null,
   "metadata": {},
   "outputs": [],
   "source": [
    "# np.savez(\"sample_train_x\", train=lmfcc_train_x[0:12,:])\n",
    "# np.savez(\"sample_train_y\", train=lmfcc_val_x[0:12,:])\n",
    "# np.savez(\"sample_val_x\", val=train_y[0:12,:])\n",
    "# np.savez(\"sample_val_y\", val=val_y[0:12,:])"
   ]
  },
  {
   "cell_type": "markdown",
   "metadata": {},
   "source": [
    "### 5 Phoneme Recognition with Deep Neural Networks"
   ]
  },
  {
   "cell_type": "markdown",
   "metadata": {},
   "source": [
    "### Model 1"
   ]
  },
  {
   "cell_type": "code",
   "execution_count": null,
   "metadata": {},
   "outputs": [
    {
     "data": {
      "application/vnd.jupyter.widget-view+json": {
       "model_id": "731177bd192e476e89ec921c51ad5c58",
       "version_major": 2,
       "version_minor": 0
      },
      "text/plain": [
       "HBox(children=(IntProgress(value=0, max=7699), HTML(value='')))"
      ]
     },
     "metadata": {},
     "output_type": "display_data"
    },
    {
     "name": "stdout",
     "output_type": "stream",
     "text": [
      "\n"
     ]
    },
    {
     "data": {
      "application/vnd.jupyter.widget-view+json": {
       "model_id": "070b793b05f644418a35bdbea9f42785",
       "version_major": 2,
       "version_minor": 0
      },
      "text/plain": [
       "HBox(children=(IntProgress(value=0, max=924), HTML(value='')))"
      ]
     },
     "metadata": {},
     "output_type": "display_data"
    },
    {
     "name": "stdout",
     "output_type": "stream",
     "text": [
      "\n"
     ]
    },
    {
     "data": {
      "application/vnd.jupyter.widget-view+json": {
       "model_id": "538220b00cb742b785524aca3035f542",
       "version_major": 2,
       "version_minor": 0
      },
      "text/plain": [
       "HBox(children=(IntProgress(value=0, max=7699), HTML(value='')))"
      ]
     },
     "metadata": {},
     "output_type": "display_data"
    },
    {
     "name": "stdout",
     "output_type": "stream",
     "text": [
      "\n"
     ]
    },
    {
     "data": {
      "application/vnd.jupyter.widget-view+json": {
       "model_id": "3ae346f2c5984687b1008d3b77ca6b04",
       "version_major": 2,
       "version_minor": 0
      },
      "text/plain": [
       "HBox(children=(IntProgress(value=0, max=924), HTML(value='')))"
      ]
     },
     "metadata": {},
     "output_type": "display_data"
    },
    {
     "name": "stdout",
     "output_type": "stream",
     "text": [
      "\n",
      "Performing Train Flattening ...\n"
     ]
    }
   ],
   "source": [
    "train_x, train_y, validation_x, validation_y, scaler = get_train_val(training_data, validation_data, 'dynamic_mspec')"
   ]
  },
  {
   "cell_type": "code",
   "execution_count": null,
   "metadata": {},
   "outputs": [],
   "source": [
    "%%time\n",
    "#Parameters\n",
    "input_dim = train_x.shape[1]\n",
    "Dense_Activation = 'relu'\n",
    "L = 4\n",
    "\n",
    "modelName = \"mspec_L4\" \n",
    "\n",
    "\n",
    "stateList = list()\n",
    "with open('stateList.txt') as f:\n",
    "    for line in f:\n",
    "        stateList.append(line.strip('\\n'))\n",
    "\n",
    "output_dim = len(stateList)\n",
    "\n",
    "#Model\n",
    "model = Sequential()\n",
    "model.add(Dense(256, input_dim=input_dim, activation=Dense_Activation))\n",
    "for i in range(L - 1):\n",
    "    model.add(Dense(256, activation=Dense_Activation))\n",
    "model.add(Dense(output_dim, activation='softmax'))\n",
    "\n",
    "#Compile Model\n",
    "model.compile(optimizer='x',\n",
    "              loss='categorical_crossentropy',\n",
    "              metrics=['accuracy'])\n",
    "\n",
    "# Train model\n",
    "history = model.fit(train_x, train_y, \n",
    "                    epochs=10,\n",
    "                    batch_size=256, \n",
    "                    validation_data = (validation_x, validation_y),\n",
    "                    callbacks=[PlotLossesKeras(fig_path=\"model_data/\"+modelName+\".png\")],\n",
    "                    verbose=0)\n",
    "\n",
    "with open(\"model_data/\"+modelName, 'wb') as file_pi:\n",
    "    pickle.dump(history.history, file_pi)\n",
    "    \n",
    "model.save(\"model_data/\"+modelName+'.h5')               "
   ]
  },
  {
   "cell_type": "code",
   "execution_count": null,
   "metadata": {},
   "outputs": [],
   "source": [
    "%%time\n",
    "#Parameters\n",
    "input_dim = train_x.shape[1]\n",
    "Dense_Activation = 'relu'\n",
    "L = 4\n",
    "\n",
    "modelName = \"dy_mspec_L4\" \n",
    "\n",
    "\n",
    "stateList = list()\n",
    "with open('stateList.txt') as f:\n",
    "    for line in f:\n",
    "        stateList.append(line.strip('\\n'))\n",
    "\n",
    "output_dim = len(stateList)\n",
    "\n",
    "#Model\n",
    "model = Sequential()\n",
    "model.add(Dense(256, input_dim=input_dim, activation=Dense_Activation))\n",
    "for i in range(L - 1):\n",
    "    model.add(Dense(256, activation=Dense_Activation))\n",
    "model.add(Dense(output_dim, activation='softmax'))\n",
    "\n",
    "#Compile Model\n",
    "model.compile(optimizer='adam',\n",
    "              loss='categorical_crossentropy',\n",
    "              metrics=['accuracy'])\n",
    "\n",
    "# Train model\n",
    "history = model.fit(train_x, train_y, \n",
    "                    epochs=10,\n",
    "                    batch_size=256, \n",
    "                    validation_data = (validation_x, validation_y),\n",
    "                    callbacks=[PlotLossesKeras(fig_path=\"model_data/\"+modelName+\".png\")],\n",
    "                    verbose=0)\n",
    "\n",
    "with open(\"model_data/\"+modelName, 'wb') as file_pi:\n",
    "    pickle.dump(history.history, file_pi)\n",
    "    \n",
    "model.save(\"model_data/\"+modelName+'.h5')               "
   ]
  },
  {
   "cell_type": "markdown",
   "metadata": {},
   "source": [
    "### Evaluate Model"
   ]
  },
  {
   "cell_type": "code",
   "execution_count": 50,
   "metadata": {},
   "outputs": [],
   "source": [
    "def plot_confusion_matrix(cm, classes,\n",
    "                          normalize=False,\n",
    "                          title='Confusion matrix',\n",
    "                          cmap=plt.cm.viridis):\n",
    "\n",
    "    if normalize:\n",
    "        cm = cm.astype('float') / cm.sum(axis=1)[:, np.newaxis]\n",
    "        print(\"Normalized confusion matrix\")\n",
    "    else:\n",
    "        print('Confusion matrix, without normalization')\n",
    "\n",
    "    print(cm)\n",
    "\n",
    "    plt.imshow(cm, interpolation='nearest', cmap=cmap)\n",
    "    plt.title(title)\n",
    "    plt.colorbar()\n",
    "\n",
    "    #plt.tight_layout()\n",
    "    plt.ylabel('True label')\n",
    "    plt.xlabel('Predicted label')\n",
    "\n",
    "def levenshteinDistance(s1, s2):\n",
    "    if len(s1) > len(s2):\n",
    "        s1, s2 = s2, s1\n",
    "\n",
    "    distances = range(len(s1) + 1)\n",
    "    for i2, c2 in enumerate(s2):\n",
    "        distances_ = [i2+1]\n",
    "        for i1, c1 in enumerate(s1):\n",
    "            if c1 == c2:\n",
    "                distances_.append(distances[i1])\n",
    "            else:\n",
    "                distances_.append(1 + min((distances[i1], distances[i1 + 1], distances_[-1])))\n",
    "        distances = distances_\n",
    "    return distances[-1]\n"
   ]
  },
  {
   "cell_type": "code",
   "execution_count": 51,
   "metadata": {},
   "outputs": [],
   "source": [
    "stateList = list()\n",
    "with open('stateList.txt') as f:\n",
    "    for line in f:\n",
    "        stateList.append(line.strip('\\n'))\n",
    "\n",
    "output_dim = len(stateList)"
   ]
  },
  {
   "cell_type": "code",
   "execution_count": 53,
   "metadata": {},
   "outputs": [
    {
     "data": {
      "application/vnd.jupyter.widget-view+json": {
       "model_id": "a96cf8f815324ddd9715e1eb1ab1275a",
       "version_major": 2,
       "version_minor": 0
      },
      "text/plain": [
       "HBox(children=(IntProgress(value=0, max=1000), HTML(value='')))"
      ]
     },
     "metadata": {},
     "output_type": "display_data"
    },
    {
     "name": "stdout",
     "output_type": "stream",
     "text": [
      "\n"
     ]
    },
    {
     "data": {
      "application/vnd.jupyter.widget-view+json": {
       "model_id": "6582e7c8d6fd4b5bbb0330421e08ec72",
       "version_major": 2,
       "version_minor": 0
      },
      "text/plain": [
       "HBox(children=(IntProgress(value=0, max=1000), HTML(value='')))"
      ]
     },
     "metadata": {},
     "output_type": "display_data"
    },
    {
     "name": "stdout",
     "output_type": "stream",
     "text": [
      "\n",
      "(1000,)\n",
      "(1000,)\n",
      "(172631, 13)\n",
      "(172631, 61)\n"
     ]
    }
   ],
   "source": [
    "testdata = np.load('testdata.npz')\n",
    "testdata = dict(zip((\"{}\".format(k) for k in testdata), (testdata[k] for k in testdata)))\n",
    "\n",
    "testing_data =  [testdata['traindata'][i] for i in range(1000)]\n",
    "#testing_data =  [testdata['traindata'][i] for i in range(len(testdata['traindata']))]\n",
    "\n",
    "test_x = np.asarray([testing_data[x][\"lmfcc\"] for x in tqdm(range(len(testing_data)))])\n",
    "test_y = np.asarray([testing_data[x][\"targets\"] for x in tqdm(range(len(testing_data)))])\n",
    "\n",
    "print(test_x.shape)\n",
    "print(test_y.shape)\n",
    "\n",
    "test_x = np.concatenate(test_x, axis = 0)\n",
    "if len(test_x.shape) > 2:\n",
    "    test_x = np.reshape(test_x,(test_x.shape[0], test_x.shape[1]*test_x.shape[2]))\n",
    "\n",
    "test_y = np.concatenate(test_y, axis = 0)\n",
    "test_y = np.reshape(test_y,(test_y.shape[0],1))\n",
    "\n",
    "test_y = np_utils.to_categorical(test_y, output_dim)\n",
    "\n",
    "print(test_x.shape)\n",
    "print(test_y.shape)\n"
   ]
  },
  {
   "cell_type": "code",
   "execution_count": 54,
   "metadata": {},
   "outputs": [
    {
     "name": "stdout",
     "output_type": "stream",
     "text": [
      "Model accuracy - frame by frame - state level: 0.05413859619651164\n",
      "Normalized confusion matrix\n",
      "[[0.1266256  0.02053388 0.         ... 0.         0.         0.        ]\n",
      " [0.         0.00255319 0.         ... 0.         0.         0.        ]\n",
      " [0.         0.         0.         ... 0.         0.         0.        ]\n",
      " ...\n",
      " [0.00127714 0.00766284 0.         ... 0.01149425 0.         0.00255428]\n",
      " [0.         0.00634417 0.         ... 0.09238699 0.00039651 0.00674068]\n",
      " [0.         0.         0.         ... 0.02036199 0.         0.        ]]\n"
     ]
    },
    {
     "data": {
      "image/png": "[encoded data removed]",
      "text/plain": [
       "<Figure size 1080x432 with 2 Axes>"
      ]
     },
     "metadata": {
      "needs_background": "light"
     },
     "output_type": "display_data"
    }
   ],
   "source": [
    "from keras.models import load_model\n",
    "\n",
    "model = load_model(\"model_data/lmfcc_L4.h5\")\n",
    "\n",
    "predictions = model.predict(test_x)\n",
    "ground_truths = np.argmax(test_y, axis = 1)\n",
    "predicted_classes = np.argmax(predictions, axis = 1)\n",
    "\n",
    "accuracy = np.count_nonzero(ground_truths == predicted_classes) / float(len(ground_truths))\n",
    "print(\"Model accuracy - frame by frame - state level: \" + str(accuracy))\n",
    "labels = [i for i in range(len(stateList))] \n",
    "\n",
    "cnf_matrix = confusion_matrix(ground_truths, predicted_classes, labels = labels)\n",
    "plot_confusion_matrix(cnf_matrix, classes = stateList, normalize=True)\n",
    "plt.show()"
   ]
  },
  {
   "cell_type": "code",
   "execution_count": 60,
   "metadata": {},
   "outputs": [
    {
     "name": "stdout",
     "output_type": "stream",
     "text": [
      "Model accuracy - frame by frame - phoneme level: 0.15632186571357404\n",
      "Normalized confusion matrix\n",
      "[[3.58608771e-02 0.00000000e+00 0.00000000e+00 0.00000000e+00\n",
      "  2.16029380e-03 0.00000000e+00 0.00000000e+00 3.79347591e-01\n",
      "  0.00000000e+00 1.69583063e-01 0.00000000e+00 0.00000000e+00\n",
      "  0.00000000e+00 0.00000000e+00 0.00000000e+00 0.00000000e+00\n",
      "  4.96867574e-03 0.00000000e+00 0.00000000e+00 0.00000000e+00\n",
      "  4.08079499e-01]\n",
      " [0.00000000e+00 2.54182457e-02 2.77289953e-04 0.00000000e+00\n",
      "  2.39301229e-01 0.00000000e+00 0.00000000e+00 2.04270265e-02\n",
      "  0.00000000e+00 7.05240780e-01 4.06691931e-03 0.00000000e+00\n",
      "  0.00000000e+00 0.00000000e+00 0.00000000e+00 0.00000000e+00\n",
      "  8.31869859e-04 0.00000000e+00 0.00000000e+00 0.00000000e+00\n",
      "  4.43663925e-03]\n",
      " [8.25423029e-04 2.88898060e-03 9.57490714e-02 4.12711515e-04\n",
      "  2.75141010e-04 0.00000000e+00 0.00000000e+00 4.12711515e-03\n",
      "  0.00000000e+00 4.62649608e-01 2.32906865e-01 3.71440363e-03\n",
      "  2.88898060e-03 8.25423029e-04 5.50282020e-04 3.43926262e-03\n",
      "  1.72650984e-01 0.00000000e+00 3.85197414e-03 0.00000000e+00\n",
      "  1.22437749e-02]\n",
      " [2.19711237e-03 2.16572505e-02 4.86503453e-02 4.48838669e-02\n",
      "  1.12994350e-01 5.64971751e-03 0.00000000e+00 2.82485876e-03\n",
      "  0.00000000e+00 1.44695543e-01 1.07030760e-01 2.31324545e-01\n",
      "  8.00376648e-02 4.08035154e-03 1.03578154e-02 1.97740113e-02\n",
      "  9.88700565e-02 0.00000000e+00 3.98618958e-02 1.06716886e-02\n",
      "  1.44381670e-02]\n",
      " [0.00000000e+00 4.06338887e-03 8.12677773e-04 0.00000000e+00\n",
      "  4.49004470e-02 0.00000000e+00 0.00000000e+00 3.04754165e-03\n",
      "  0.00000000e+00 9.00853312e-01 4.26655831e-03 0.00000000e+00\n",
      "  0.00000000e+00 0.00000000e+00 0.00000000e+00 0.00000000e+00\n",
      "  3.59609915e-02 0.00000000e+00 0.00000000e+00 0.00000000e+00\n",
      "  6.09508330e-03]\n",
      " [2.06907528e-03 8.91293968e-03 8.89702371e-02 1.46426866e-02\n",
      "  4.87028490e-02 7.48050294e-03 0.00000000e+00 2.06907528e-03\n",
      "  0.00000000e+00 1.62820309e-01 1.06477797e-01 1.58841318e-01\n",
      "  5.02944453e-02 4.77478911e-03 2.38739456e-03 1.90991565e-02\n",
      "  1.18255610e-01 0.00000000e+00 1.70778291e-01 7.00302403e-03\n",
      "  2.64204998e-02]\n",
      " [5.99657339e-03 5.13992005e-03 4.96858938e-02 9.85151342e-02\n",
      "  3.71216448e-03 1.74186179e-02 2.85551114e-04 3.99771559e-03\n",
      "  0.00000000e+00 3.22672758e-02 7.39577384e-02 4.89149058e-01\n",
      "  4.54026271e-02 5.42547116e-03 8.56653341e-03 6.85322673e-03\n",
      "  1.28498001e-02 0.00000000e+00 7.13877784e-02 4.25471159e-02\n",
      "  2.68418047e-02]\n",
      " [1.47758578e-02 7.51314801e-04 2.25394440e-03 0.00000000e+00\n",
      "  2.42925119e-02 0.00000000e+00 0.00000000e+00 3.17054846e-01\n",
      "  0.00000000e+00 1.91334836e-01 0.00000000e+00 0.00000000e+00\n",
      "  0.00000000e+00 0.00000000e+00 0.00000000e+00 1.62784874e-02\n",
      "  2.30152767e-01 0.00000000e+00 2.50438267e-04 0.00000000e+00\n",
      "  2.02854996e-01]\n",
      " [4.88440247e-04 1.72582221e-02 4.85183979e-02 5.42168675e-02\n",
      "  1.89677629e-01 0.00000000e+00 0.00000000e+00 2.93064148e-02\n",
      "  0.00000000e+00 1.86909801e-01 3.74470856e-03 3.05275155e-01\n",
      "  7.27775969e-02 1.02572452e-02 4.88440247e-03 1.13969391e-03\n",
      "  3.10973624e-02 0.00000000e+00 1.15597525e-02 1.79094757e-03\n",
      "  3.10973624e-02]\n",
      " [2.59875260e-03 1.02650728e-02 4.80769231e-03 0.00000000e+00\n",
      "  6.75675676e-03 0.00000000e+00 0.00000000e+00 1.13045738e-02\n",
      "  0.00000000e+00 9.32172557e-01 2.46881497e-03 1.55925156e-03\n",
      "  3.89812890e-04 1.42931393e-03 0.00000000e+00 0.00000000e+00\n",
      "  1.40332640e-02 0.00000000e+00 0.00000000e+00 0.00000000e+00\n",
      "  1.22141372e-02]\n",
      " [1.40646976e-03 7.18862322e-03 8.98577903e-02 1.56274418e-03\n",
      "  1.10954837e-02 2.03156743e-03 0.00000000e+00 4.53195812e-03\n",
      "  0.00000000e+00 2.63791217e-01 4.74136584e-01 1.10954837e-02\n",
      "  7.34489764e-03 2.81293952e-03 7.81372089e-04 0.00000000e+00\n",
      "  5.71964369e-02 0.00000000e+00 7.81372089e-04 4.68823254e-04\n",
      "  6.39162369e-02]\n",
      " [2.34971608e-03 9.39886430e-03 2.44762091e-02 1.42941061e-02\n",
      "  4.98335618e-02 0.00000000e+00 0.00000000e+00 3.03504993e-03\n",
      "  0.00000000e+00 3.83786959e-02 4.89524182e-03 7.24495790e-01\n",
      "  3.21127864e-02 2.93714509e-03 1.56647738e-02 3.91619346e-04\n",
      "  4.89524182e-03 0.00000000e+00 4.94419424e-02 5.87429019e-04\n",
      "  2.28118269e-02]\n",
      " [5.63380282e-04 2.81690141e-04 2.70422535e-02 0.00000000e+00\n",
      "  1.04225352e-02 0.00000000e+00 0.00000000e+00 1.69014085e-03\n",
      "  0.00000000e+00 5.47605634e-01 1.98591549e-01 1.31267606e-01\n",
      "  2.81690141e-03 5.63380282e-04 1.12676056e-02 0.00000000e+00\n",
      "  7.32394366e-03 0.00000000e+00 3.54929577e-02 0.00000000e+00\n",
      "  2.50704225e-02]\n",
      " [1.66435506e-03 2.03883495e-02 4.02219140e-02 4.02219140e-03\n",
      "  2.42718447e-02 1.38696255e-04 0.00000000e+00 1.80305132e-03\n",
      "  0.00000000e+00 6.09570042e-01 6.86546463e-02 3.68932039e-02\n",
      "  2.01109570e-02 2.77392510e-03 8.32177531e-04 2.63522885e-03\n",
      "  1.39944521e-01 0.00000000e+00 4.29958391e-03 1.38696255e-04\n",
      "  2.16366158e-02]\n",
      " [0.00000000e+00 1.54202005e-03 3.70084811e-02 0.00000000e+00\n",
      "  3.77794911e-02 0.00000000e+00 0.00000000e+00 0.00000000e+00\n",
      "  0.00000000e+00 5.64379337e-01 9.40632228e-02 1.51117965e-01\n",
      "  7.71010023e-03 1.54202005e-03 7.71010023e-03 0.00000000e+00\n",
      "  0.00000000e+00 0.00000000e+00 5.62837317e-02 7.71010023e-04\n",
      "  4.00925212e-02]\n",
      " [3.27627160e-03 8.27258580e-03 5.33213203e-02 2.45720370e-04\n",
      "  4.75059382e-03 8.19067901e-05 0.00000000e+00 1.59718241e-02\n",
      "  0.00000000e+00 3.84388566e-01 7.53542469e-03 3.35817839e-03\n",
      "  8.19067901e-04 2.45720370e-04 2.45720370e-04 1.91661889e-02\n",
      "  4.85052011e-01 0.00000000e+00 1.47432222e-03 0.00000000e+00\n",
      "  1.17945778e-02]\n",
      " [8.66851595e-04 1.90707351e-03 1.21359223e-02 3.46740638e-04\n",
      "  1.21359223e-03 0.00000000e+00 0.00000000e+00 4.50762829e-03\n",
      "  0.00000000e+00 6.71116505e-01 2.60055479e-02 3.46740638e-04\n",
      "  1.38696255e-03 1.73370319e-04 0.00000000e+00 7.28155340e-03\n",
      "  2.55894591e-01 0.00000000e+00 0.00000000e+00 0.00000000e+00\n",
      "  1.68169209e-02]\n",
      " [0.00000000e+00 5.23237919e-03 5.69405971e-02 1.93905817e-02\n",
      "  1.19729147e-01 2.15450908e-03 0.00000000e+00 3.07787011e-04\n",
      "  0.00000000e+00 3.73037858e-01 1.93905817e-02 1.93598030e-01\n",
      "  4.49369037e-02 4.61680517e-03 4.92459218e-03 0.00000000e+00\n",
      "  8.00246230e-02 0.00000000e+00 5.54016620e-02 9.23361034e-04\n",
      "  1.93905817e-02]\n",
      " [5.33760342e-04 2.66880171e-04 2.91700027e-01 5.33760342e-04\n",
      "  6.13824393e-03 0.00000000e+00 0.00000000e+00 2.40192154e-03\n",
      "  0.00000000e+00 2.54069923e-01 3.06912196e-02 1.82546037e-01\n",
      "  2.66880171e-03 0.00000000e+00 3.46944222e-03 8.00640512e-03\n",
      "  1.33440085e-01 0.00000000e+00 7.23245263e-02 2.66880171e-04\n",
      "  1.09420870e-02]\n",
      " [8.60180151e-03 3.68213909e-02 6.56901728e-02 7.67670210e-02\n",
      "  2.70226406e-02 1.32272985e-02 6.08618031e-05 2.85238984e-02\n",
      "  0.00000000e+00 6.18558793e-02 5.26048852e-02 3.81806378e-01\n",
      "  4.74316319e-02 5.25440234e-03 8.64237604e-03 1.88671590e-02\n",
      "  5.95634180e-02 0.00000000e+00 5.73521058e-02 2.49330520e-02\n",
      "  2.49736266e-02]\n",
      " [4.70901821e-03 5.86406042e-03 1.59928920e-03 0.00000000e+00\n",
      "  6.82363394e-02 0.00000000e+00 0.00000000e+00 1.78587295e-01\n",
      "  0.00000000e+00 3.90404265e-01 3.28742781e-03 3.55397601e-04\n",
      "  0.00000000e+00 3.82052421e-03 1.77698801e-04 6.21945802e-04\n",
      "  4.79786761e-02 0.00000000e+00 0.00000000e+00 0.00000000e+00\n",
      "  2.94358063e-01]]\n"
     ]
    },
    {
     "data": {
      "image/png": "[encoded data removed]",
      "text/plain": [
       "<Figure size 1080x432 with 2 Axes>"
      ]
     },
     "metadata": {
      "needs_background": "light"
     },
     "output_type": "display_data"
    }
   ],
   "source": [
    "phoneme_dict = {phoneme: index for (index, phoneme) in enumerate(phones)}\n",
    "\n",
    "# Convert state prediction to phonemes\n",
    "phoneme_ground_truths = np.array([phoneme_dict[stateList[gt][:-2]] for gt in ground_truths])\n",
    "phoneme_predicted_classes = np.array([phoneme_dict[stateList[pred][:-2]] for pred in predicted_classes])\n",
    "\n",
    "phoneme_accuracy = np.count_nonzero(phoneme_ground_truths == phoneme_predicted_classes) / float(len(phoneme_ground_truths))\n",
    "print(\"Model accuracy - frame by frame - phoneme level: \" + str(phoneme_accuracy))\n",
    "\n",
    "\n",
    "cnf_matrix = confusion_matrix(phoneme_ground_truths, phoneme_predicted_classes, labels = list(phoneme_dict.values()))\n",
    "_ = plot_confusion_matrix(cnf_matrix, classes = list(phoneme_dict.keys()), normalize=True)\n",
    "_ = plt.show()"
   ]
  },
  {
   "cell_type": "markdown",
   "metadata": {},
   "source": [
    "###### Checkout training results in model_data folder"
   ]
  }
 ],
 "metadata": {
  "kernelspec": {
   "display_name": "Python 3",
   "language": "python",
   "name": "python3"
  },
  "language_info": {
   "codemirror_mode": {
    "name": "ipython",
    "version": 3
   },
   "file_extension": ".py",
   "mimetype": "text/x-python",
   "name": "python",
   "nbconvert_exporter": "python",
   "pygments_lexer": "ipython3",
   "version": "3.5.2"
  }
 },
 "nbformat": 4,
 "nbformat_minor": 2
}
