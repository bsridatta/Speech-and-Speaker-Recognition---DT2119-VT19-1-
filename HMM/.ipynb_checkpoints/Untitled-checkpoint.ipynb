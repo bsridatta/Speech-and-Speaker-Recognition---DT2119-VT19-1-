{
 "cells": [
  {
   "cell_type": "markdown",
   "metadata": {},
   "source": [
    "## Speech and Speaker Recognition - DT2119 VT19-1 \n",
    "\n",
    "### HMM - Lab 2"
   ]
  },
  {
   "cell_type": "code",
   "execution_count": 1,
   "metadata": {},
   "outputs": [],
   "source": [
    "from __future__ import print_function\n",
    "\n",
    "import numpy as np\n",
    "import math\n",
    "\n",
    "\n",
    "from matplotlib import pyplot as plt\n",
    "import seaborn as sns\n",
    "\n",
    "%matplotlib inline"
   ]
  },
  {
   "cell_type": "code",
   "execution_count": 9,
   "metadata": {},
   "outputs": [
    {
     "name": "stdout",
     "output_type": "stream",
     "text": [
      "digit\tobsloglik\tlogalpha\tlogbeta\tgender\tfilename\tsamplingrate\tvloglik\tspeaker\tsamples\tloglik\tlmfcc\trepetition\tloggamma\tvpath\t"
     ]
    }
   ],
   "source": [
    "example = np.load('lab2_example.npz')['example']\n",
    "for x in example.item().keys(): print(x, end = '\\t')"
   ]
  },
  {
   "cell_type": "code",
   "execution_count": 10,
   "metadata": {},
   "outputs": [
    {
     "name": "stdout",
     "output_type": "stream",
     "text": [
      "digit\tgender\tfilename\tsamplingrate\tspeaker\tsamples\tlmfcc\trepetition\t"
     ]
    }
   ],
   "source": [
    "data = np.load('lab2_data.npz')['data']\n",
    "for x in data[0]: print(x, end = '\\t')"
   ]
  },
  {
   "cell_type": "code",
   "execution_count": null,
   "metadata": {},
   "outputs": [],
   "source": []
  }
 ],
 "metadata": {
  "kernelspec": {
   "display_name": "Python 3",
   "language": "python",
   "name": "python3"
  },
  "language_info": {
   "codemirror_mode": {
    "name": "ipython",
    "version": 2
   },
   "file_extension": ".py",
   "mimetype": "text/x-python",
   "name": "python",
   "nbconvert_exporter": "python",
   "pygments_lexer": "ipython2",
   "version": "2.7.12"
  }
 },
 "nbformat": 4,
 "nbformat_minor": 2
}
