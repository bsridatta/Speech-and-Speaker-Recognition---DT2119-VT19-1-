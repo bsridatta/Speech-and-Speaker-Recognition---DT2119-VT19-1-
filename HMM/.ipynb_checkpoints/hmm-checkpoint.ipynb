{
 "cells": [
  {
   "cell_type": "markdown",
   "metadata": {},
   "source": [
    "## Speech and Speaker Recognition - DT2119 VT19-1 \n",
    "\n",
    "### HMM - Lab 2"
   ]
  },
  {
   "cell_type": "code",
   "execution_count": 167,
   "metadata": {},
   "outputs": [],
   "source": [
    "from __future__ import print_function\n",
    "\n",
    "import numpy as np\n",
    "import math\n",
    "\n",
    "from lab2_tools import *\n",
    "import prondict as prondict\n",
    "\n",
    "from matplotlib import pyplot as plt\n",
    "import seaborn as sns\n",
    "\n",
    "%matplotlib inline"
   ]
  },
  {
   "cell_type": "code",
   "execution_count": 171,
   "metadata": {},
   "outputs": [],
   "source": [
    "prondict = {} \n",
    "prondict['o'] = ['ow']\n",
    "prondict['z'] = ['z', 'iy', 'r', 'ow']\n",
    "prondict['1'] = ['w', 'ah', 'n']\n",
    "prondict['2'] = ['t', 'uw']\n",
    "prondict['3'] = ['th', 'r', 'iy']\n",
    "prondict['4'] = ['f', 'ao', 'r']\n",
    "prondict['5'] = ['f', 'ay', 'v']\n",
    "prondict['6'] = ['s', 'ih', 'k', 's']\n",
    "prondict['7'] = ['s', 'eh', 'v', 'ah', 'n']\n",
    "prondict['8'] = ['ey', 't']\n",
    "prondict['9'] = ['n', 'ay', 'n']"
   ]
  },
  {
   "cell_type": "code",
   "execution_count": 27,
   "metadata": {},
   "outputs": [
    {
     "name": "stdout",
     "output_type": "stream",
     "text": [
      "digit\tobsloglik\tlogalpha\tlogbeta\tgender\tfilename\tsamplingrate\tvloglik\tspeaker\tsamples\tloglik\tlmfcc\trepetition\tloggamma\tvpath\t"
     ]
    }
   ],
   "source": [
    "example = np.load('lab2_example.npz')['example'].item()\n",
    "for x in example.keys(): print(x, end = '\\t')"
   ]
  },
  {
   "cell_type": "code",
   "execution_count": 28,
   "metadata": {},
   "outputs": [
    {
     "name": "stdout",
     "output_type": "stream",
     "text": [
      "digit\tgender\tfilename\tsamplingrate\tspeaker\tsamples\tlmfcc\trepetition\t"
     ]
    }
   ],
   "source": [
    "data = np.load('lab2_data.npz')['data']\n",
    "for x in data[0]: print(x, end = '\\t')"
   ]
  },
  {
   "cell_type": "code",
   "execution_count": 29,
   "metadata": {},
   "outputs": [
    {
     "name": "stdout",
     "output_type": "stream",
     "text": [
      "iy\teh\tf\tah\tk\tsp\tth\tow\tao\tn\tih\ts\tr\tey\tt\tw\tv\tay\tz\tuw\tsil\t"
     ]
    }
   ],
   "source": [
    "phoneHMMs_one = np.load('lab2_models_onespkr.npz')['phoneHMMs'].item()\n",
    "for x in phoneHMMs_one.keys(): print(x, end = '\\t')"
   ]
  },
  {
   "cell_type": "code",
   "execution_count": 30,
   "metadata": {},
   "outputs": [
    {
     "name": "stdout",
     "output_type": "stream",
     "text": [
      "iy\teh\tf\tah\tk\tsp\tth\tow\tao\tn\tih\ts\tr\tey\tt\tw\tv\tay\tz\tuw\tsil\t"
     ]
    }
   ],
   "source": [
    "phoneHMMs_all = np.load('lab2_models_all.npz')['phoneHMMs'].item()\n",
    "for x in phoneHMMs_all.keys(): print(x, end = '\\t')"
   ]
  },
  {
   "cell_type": "code",
   "execution_count": 52,
   "metadata": {},
   "outputs": [
    {
     "name": "stdout",
     "output_type": "stream",
     "text": [
      "[u'transmat', u'covars', u'startprob', u'name', u'means']\n"
     ]
    }
   ],
   "source": [
    "print(phoneHMMs_one['ah'].keys())"
   ]
  },
  {
   "cell_type": "code",
   "execution_count": 53,
   "metadata": {},
   "outputs": [],
   "source": [
    "def concatHMMs(hmmmodels, namelist):\n",
    "    \"\"\" Concatenates HMM models in a left to right manner\n",
    "\n",
    "    Args:\n",
    "       hmmmodels: dictionary of models indexed by model name. \n",
    "       hmmmodels[name] is a dictionaries with the following keys:\n",
    "           name: phonetic or word symbol corresponding to the model\n",
    "           startprob: M+1 array with priori probability of state\n",
    "           transmat: (M+1)x(M+1) transition matrix\n",
    "           means: MxD array of mean vectors\n",
    "           covars: MxD array of variances\n",
    "       namelist: list of model names that we want to concatenate\n",
    "\n",
    "    D is the dimension of the feature vectors\n",
    "    M is the number of emitting states in each HMM model (could be\n",
    "      different in each model)\n",
    "\n",
    "    Output\n",
    "       combinedhmm: dictionary with the same keys as the input but\n",
    "                    combined models:\n",
    "         startprob: K+1 array with priori probability of state\n",
    "          transmat: (K+1)x(K+1) transition matrix\n",
    "             means: KxD array of mean vectors\n",
    "            covars: KxD array of variances\n",
    "\n",
    "    K is the sum of the number of emitting states from the input models\n",
    "\n",
    "    Example:\n",
    "       wordHMMs['o'] = concatHMMs(phoneHMMs, ['sil', 'ow', 'sil'])\n",
    "    \"\"\"\n",
    "    concat = hmmmodels[namelist[0]]\n",
    "    for idx in range(1,len(namelist)):\n",
    "        concat = concatTwoHMMs(concat, hmmmodels[namelist[idx]])\n",
    "    return concat"
   ]
  },
  {
   "cell_type": "code",
   "execution_count": 268,
   "metadata": {},
   "outputs": [],
   "source": [
    "def concatTwoHMMs(hmm1, hmm2):\n",
    "    \"\"\" Concatenates 2 HMM models\n",
    "\n",
    "    Args:\n",
    "       hmm1, hmm2: two dictionaries with the following keys:\n",
    "           name: phonetic or word symbol corresponding to the model\n",
    "           startprob: M+1 array with priori probability of state\n",
    "           transmat: (M+1)x(M+1) transition matrix\n",
    "           means: MxD array of mean vectors\n",
    "           covars: MxD array of variances\n",
    "\n",
    "    D is the dimension of the feature vectors\n",
    "    M is the number of emitting states in each HMM model (could be different for each)\n",
    "\n",
    "    Output\n",
    "       dictionary with the same keys as the input but concatenated models:\n",
    "          startprob: K+1 array with priori probability of state\n",
    "          transmat: (K+1)x(K+1) transition matrix\n",
    "             means: KxD array of mean vectors\n",
    "            covars: KxD array of variances\n",
    "\n",
    "    K is the sum of the number of emitting states from the input models\n",
    "   \n",
    "    Example:\n",
    "       twoHMMs = concatHMMs(phoneHMMs['sil'], phoneHMMs['ow'])\n",
    "\n",
    "    See also: the concatenating_hmms.pdf document in the lab package\n",
    "    \"\"\"\n",
    "    concatedHMM = {}\n",
    "    #M is the number of emitting states in each HMM model (could be different for each)\n",
    "    #K is the sum of the number of emitting states from the input models\n",
    "    \n",
    "    M1 = hmm1['means'].shape[0]\n",
    "    M2 = hmm2['means'].shape[0]\n",
    "    K = M1 + M2\n",
    "    \n",
    "    concatedHMM['name'] = hmm1['name'] + hmm2['name']\n",
    "    concatedHMM['startprob'] = np.zeros((K + 1, 1))\n",
    "    concatedHMM['transmat'] = np.zeros((K + 1, K + 1))\n",
    "    concatedHMM['means'] = np.vstack((hmm1['means'],hmm2['means']))\n",
    "    concatedHMM['covars'] = np.vstack((hmm1['covars'],hmm2['covars']))\n",
    "        \n",
    "    \n",
    "    start1 = hmm1['startprob'].reshape(-1,1)\n",
    "    start2 = hmm2['startprob'].reshape(-1,1)\n",
    "    \n",
    "    concatedHMM['startprob'][:hmm1['startprob'].shape[0]-1,:] = start1[:-1,:]\n",
    "    concatedHMM['startprob'][hmm1['startprob'].shape[0]-1:,:] = np.dot(start1[-1,0],start2)\n",
    "    trans = concatedHMM['transmat']\n",
    "    trans1 = hmm1['transmat']\n",
    "    trans2 = hmm2['transmat']\n",
    "#     for col in range(K+1):\n",
    "#         if(col < hmm1['transmat'].shape[1]-1):\n",
    "#             concatedHMM['transmat'][:hmm1['transmat'].shape[0], col] = hmm1['transmat'][:, col] \n",
    "#         else:\n",
    "#             concatedHMM[:hmm1['transmat'].shape[0]-1, col:] = hmm1['transmat'][:-1][-1]\n",
    "    \n",
    "    trans[:trans1.shape[0]-1,:trans1.shape[1]-1] = trans1[:-1,:-1]\n",
    "    temp = trans1[:-1,-1].reshape(-1,1)\n",
    "    trans[:trans1.shape[0]-1,trans1.shape[1]-1:] = \\\n",
    "                            np.dot(temp,start2.T)\n",
    "    trans[trans1.shape[0]-1:,trans1.shape[1]-1:] = trans2\n",
    "    \n",
    "    concatedHMM['transmat'] = trans\n",
    "\n",
    "    \n",
    "    return concatedHMM"
   ]
  },
  {
   "cell_type": "code",
   "execution_count": 272,
   "metadata": {},
   "outputs": [],
   "source": [
    "isolated = {}\n",
    "\n",
    "for digit in prondict.keys():\n",
    "    isolated[digit] = ['sil'] + prondict[digit] + ['sil']\n",
    "    \n",
    "wordHMMs = {}\n",
    "wordHMMs['8'] = concatHMMs(phoneHMMs, isolated['8'])"
   ]
  },
  {
   "cell_type": "code",
   "execution_count": 271,
   "metadata": {},
   "outputs": [],
   "source": [
    "a = np.ones((3,1))"
   ]
  },
  {
   "cell_type": "code",
   "execution_count": 253,
   "metadata": {},
   "outputs": [
    {
     "data": {
      "text/plain": [
       "array([[1.],\n",
       "       [1.],\n",
       "       [1.]])"
      ]
     },
     "execution_count": 253,
     "metadata": {},
     "output_type": "execute_result"
    }
   ],
   "source": [
    "a"
   ]
  },
  {
   "cell_type": "code",
   "execution_count": 254,
   "metadata": {},
   "outputs": [
    {
     "data": {
      "text/plain": [
       "array([[3.],\n",
       "       [3.],\n",
       "       [3.]])"
      ]
     },
     "execution_count": 254,
     "metadata": {},
     "output_type": "execute_result"
    }
   ],
   "source": [
    "np.dot(a,3)"
   ]
  },
  {
   "cell_type": "code",
   "execution_count": null,
   "metadata": {},
   "outputs": [],
   "source": []
  }
 ],
 "metadata": {
  "kernelspec": {
   "display_name": "Python 3",
   "language": "python",
   "name": "python3"
  },
  "language_info": {
   "codemirror_mode": {
    "name": "ipython",
    "version": 2
   },
   "file_extension": ".py",
   "mimetype": "text/x-python",
   "name": "python",
   "nbconvert_exporter": "python",
   "pygments_lexer": "ipython2",
   "version": "2.7.12"
  }
 },
 "nbformat": 4,
 "nbformat_minor": 2
}
